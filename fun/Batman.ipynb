{
 "cells": [
  {
   "cell_type": "code",
   "execution_count": null,
   "metadata": {
    "collapsed": true
   },
   "outputs": [],
   "source": [
    "from __future__ import division\n",
    "from numpy import linspace, sqrt, abs\n",
    "from matplotlib.pyplot import plot, show\n",
    "\n",
    "x = linspace(-7,7,1000)\n",
    "\n",
    "f1 = 1.5*sqrt((-abs(abs(x) - 1)) * abs(3 - abs(x))/((abs(x) - 1)*(3 - abs(x)))) * (1+abs(abs(x) - 3)/(abs(x)- 3)) * sqrt(1 - (x/7)**2)+(4.5+0.75 * (abs(x - 0.5)+abs(x+0.5)) - 2.75 * (abs(x-0.75)+abs(x+0.75))) * (1+abs(1 - abs(x))/(1 - abs(x)))\n",
    "\n",
    "f2 = (-3)*sqrt(1 -(x/7)**2) * sqrt(abs(abs(x) - 4)/(abs(x)-4))\n",
    "\n",
    "f3 = abs(x/2) - 0.0913722 * x**2-3+sqrt(1 - (abs(abs(x) - 2) - 1)**2)\n",
    "\n",
    "f4 = (2.71052+1.5 - 0.5 * abs(x) - 1.35526 * sqrt(4 - (abs(x) - 1)**2)) * sqrt(abs(abs(x) - 1)/(abs(x) - 1))\n",
    "\n",
    "plot(x, f1, 'k-', x, f2, 'b-', x, f3, 'r-', x, f4, 'g-')\n",
    "\n",
    "show()"
   ]
  }
 ],
 "metadata": {
  "kernelspec": {
   "display_name": "Python 2",
   "language": "python",
   "name": "python2"
  },
  "language_info": {
   "codemirror_mode": {
    "name": "ipython",
    "version": 2
   },
   "file_extension": ".py",
   "mimetype": "text/x-python",
   "name": "python",
   "nbconvert_exporter": "python",
   "pygments_lexer": "ipython2",
   "version": "2.7.6"
  }
 },
 "nbformat": 4,
 "nbformat_minor": 0
}
