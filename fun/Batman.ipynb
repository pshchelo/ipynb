{
 "cells": [
  {
   "cell_type": "code",
   "execution_count": 1,
   "metadata": {
    "collapsed": false
   },
   "outputs": [],
   "source": [
    "%matplotlib inline"
   ]
  },
  {
   "cell_type": "code",
   "execution_count": 2,
   "metadata": {
    "collapsed": true
   },
   "outputs": [],
   "source": [
    "from __future__ import division\n",
    "import numpy as np\n",
    "from matplotlib import pyplot as plt"
   ]
  },
  {
   "cell_type": "code",
   "execution_count": 3,
   "metadata": {
    "collapsed": true
   },
   "outputs": [],
   "source": [
    "x = np.linspace(-7,7,1000)"
   ]
  },
  {
   "cell_type": "code",
   "execution_count": 4,
   "metadata": {
    "collapsed": false
   },
   "outputs": [
    {
     "name": "stderr",
     "output_type": "stream",
     "text": [
      "/home/pshchelo/.virtualenvs/ipynb/lib/python2.7/site-packages/IPython/kernel/__main__.py:1: RuntimeWarning: invalid value encountered in sqrt\n",
      "  if __name__ == '__main__':\n",
      "/home/pshchelo/.virtualenvs/ipynb/lib/python2.7/site-packages/IPython/kernel/__main__.py:3: RuntimeWarning: invalid value encountered in sqrt\n",
      "  app.launch_new_instance()\n",
      "/home/pshchelo/.virtualenvs/ipynb/lib/python2.7/site-packages/IPython/kernel/__main__.py:5: RuntimeWarning: invalid value encountered in sqrt\n",
      "/home/pshchelo/.virtualenvs/ipynb/lib/python2.7/site-packages/IPython/kernel/__main__.py:7: RuntimeWarning: invalid value encountered in sqrt\n"
     ]
    }
   ],
   "source": [
    "f1 = 1.5 * np.sqrt((-np.abs(np.abs(x) - 1)) * np.abs(3 - np.abs(x))/((np.abs(x) - 1)*(3 - np.abs(x)))) \\\n",
    "    * (1 + np.abs(np.abs(x) - 3)/(np.abs(x) - 3)) \\\n",
    "    * np.sqrt(1 - (x/7)**2) \\\n",
    "    + (4.5 + 0.75 * (np.abs(x - 0.5) + np.abs(x + 0.5)) - 2.75 * (np.abs(x - 0.75) + np.abs(x + 0.75))) \\\n",
    "    * (1 + np.abs(1 - np.abs(x))/(1 - np.abs(x)))\n",
    "\n",
    "f2 = (-3) * np.sqrt(1 - (x/7)**2) * np.sqrt(np.abs(np.abs(x) - 4)/(np.abs(x) - 4))\n",
    "\n",
    "f3 = np.abs(x/2) - 0.0913722 * x**2 - 3 + np.sqrt(1 - (np.abs(np.abs(x) - 2) - 1)**2)\n",
    "\n",
    "f4 = (2.71052 + 1.5 - 0.5 * np.abs(x) - 1.35526 * np.sqrt(4 - (np.abs(x) - 1)**2)) \\\n",
    "    * np.sqrt(np.abs(np.abs(x) - 1)/(np.abs(x) - 1))    "
   ]
  },
  {
   "cell_type": "code",
   "execution_count": 5,
   "metadata": {
    "collapsed": false
   },
   "outputs": [
    {
     "data": {
      "text/plain": [
       "[<matplotlib.lines.Line2D at 0x7fdaea893150>,\n",
       " <matplotlib.lines.Line2D at 0x7fdaea893390>,\n",
       " <matplotlib.lines.Line2D at 0x7fdaea893a50>,\n",
       " <matplotlib.lines.Line2D at 0x7fdaea8260d0>]"
      ]
     },
     "execution_count": 5,
     "metadata": {},
     "output_type": "execute_result"
    },
    {
     "data": {
      "image/png": "[encoded data removed]",
      "text/plain": [
       "<matplotlib.figure.Figure at 0x7fdaea8dfd10>"
      ]
     },
     "metadata": {},
     "output_type": "display_data"
    }
   ],
   "source": [
    "plt.plot(x, f1, 'k-', x, f2, 'b-', x, f3, 'r-', x, f4, 'g-')"
   ]
  }
 ],
 "metadata": {
  "kernelspec": {
   "display_name": "Python 2",
   "language": "python",
   "name": "python2"
  },
  "language_info": {
   "codemirror_mode": {
    "name": "ipython",
    "version": 2
   },
   "file_extension": ".py",
   "mimetype": "text/x-python",
   "name": "python",
   "nbconvert_exporter": "python",
   "pygments_lexer": "ipython2",
   "version": "2.7.6"
  }
 },
 "nbformat": 4,
 "nbformat_minor": 0
}
