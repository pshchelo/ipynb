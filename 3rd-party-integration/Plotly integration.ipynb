{
 "cells": [
  {
   "cell_type": "markdown",
   "metadata": {},
   "source": [
    "# Showcase IPython Notebook integration with Plotly web-service"
   ]
  },
  {
   "cell_type": "markdown",
   "metadata": {},
   "source": [
    "for API details, see https://plot.ly/api/\n",
    "\n",
    "for Python tutorial, see http://nbviewer.ipython.org/github/plotly/python-user-guide/blob/master/s00_homepage/s00_homepage.ipynb"
   ]
  },
  {
   "cell_type": "code",
   "execution_count": null,
   "metadata": {
    "collapsed": false
   },
   "outputs": [],
   "source": [
    "import plotly.plotly as py"
   ]
  },
  {
   "cell_type": "code",
   "execution_count": null,
   "metadata": {
    "collapsed": false
   },
   "outputs": [],
   "source": [
    "from numpy import *\n",
    "py.iplot([{'y': random.randn(5), 'type': 'box'} for i in range(50)], layout={'showlegend': False})"
   ]
  },
  {
   "cell_type": "code",
   "execution_count": null,
   "metadata": {
    "collapsed": false
   },
   "outputs": [],
   "source": [
    "from numpy import *\n",
    "\n",
    "# fill several concentric annuli with random points of equal density\n",
    "# color with the \"hue, saturation, lightness, alpha\" color code (hsla)\n",
    "# by keeping the hue, saturation, and alpha channels constant and marching\n",
    "# up the lightness channel\n",
    "\n",
    "\n",
    "t = 0.1     # thickness\n",
    "radius = arange(t, 5., t) \n",
    "density = 30.\n",
    "data = []\n",
    "\n",
    "for i in range(len(radius)):\n",
    "   r = radius[i]\n",
    "   npoints = density * pi * (r**2 - (r-t)**2)\n",
    "   rand_radius = t*random.rand(npoints)+r\n",
    "   rand_angle = random.rand(npoints)*2*pi\n",
    "   x = rand_radius*cos(rand_angle)\n",
    "   y = rand_radius*sin(rand_angle)\n",
    "   color = 'hsla(284, 100%, '+str(10+i*90/len(radius))+'%, 0.88)'\n",
    "   data.append({'x': x, 'y': y, 'type':'scatter','mode':'markers','marker':{'color':color}})\n",
    "\n",
    "l={'autosize': False,'width': 550, 'height': 550,\n",
    "\t'xaxis' : { \"ticks\": \"\", \"gridcolor\": \"white\", \"zerolinecolor\": \"white\", \"linecolor\": \"rgb(0, 0, 0)\", \"linewidth\": 3 },\n",
    "\t'yaxis' : { \"ticks\": \"\", \"gridcolor\": \"white\", \"zerolinecolor\": \"white\", \"linecolor\": \"rgb(0, 0, 0)\", \"linewidth\": 3 },\n",
    "\t'plot_bgcolor': 'rgb(229,229,229)', 'showlegend': False, 'hovermode': 'closest'}\n",
    "\n",
    "py.iplot(data,layout=l)"
   ]
  },
  {
   "cell_type": "code",
   "execution_count": null,
   "metadata": {
    "collapsed": false
   },
   "outputs": [],
   "source": [
    "x0 = [1,2,3,4]; y0 = [10,15,13,17]\n",
    "x1 = [2,3,4,5]; y1 = [16,5,11,9]\n",
    "py.iplot(x0, y0, x1, y1)"
   ]
  },
  {
   "cell_type": "code",
   "execution_count": null,
   "metadata": {
    "collapsed": false
   },
   "outputs": [],
   "source": [
    "py.verbose=False"
   ]
  },
  {
   "cell_type": "code",
   "execution_count": null,
   "metadata": {
    "collapsed": false
   },
   "outputs": [],
   "source": [
    "trace0 = {'x': [1,2,3,4], \n",
    "  'y': [10,15,13,17],\n",
    "  'type': 'scatter', \n",
    "  'mode': 'markers'}\n",
    "\n",
    "trace1 = {'x': [2,3,4,5], \n",
    "  'y': [16,5,11,9],\n",
    "  'type': 'scatter', \n",
    "  'mode': 'lines'}\n",
    "\n",
    "trace2 = {'x': [1,2,3,4], \n",
    "  'y': [12,9,15,12],\n",
    "  'type': 'scatter', \n",
    "  'mode': 'lines+markers'}\n",
    "\n",
    "py.iplot([trace0, trace1, trace2])"
   ]
  },
  {
   "cell_type": "code",
   "execution_count": null,
   "metadata": {
    "collapsed": false
   },
   "outputs": [],
   "source": [
    "x1 = [1,2,3]; y1 = [4,5,6]\n",
    "x2 = [1,2,3]; y2 = [2,10,12]\n",
    " \n",
    "# plotly's data dictionaries\n",
    "trace1 = {'x': x1,\n",
    "    'y': y1,\n",
    "    \"name\":\"Experiment\",\n",
    "    \"type\":\"scatter\",\n",
    "    \"line\":{\n",
    "        \"color\":\"rgb(3,78,123)\", \n",
    "        \"width\":6,\n",
    "        \"dash\":\"dot\"\n",
    "    },\n",
    "    \"marker\":{\n",
    "        \"opacity\":1.0,\n",
    "        \"symbol\":\"square\",\n",
    "        \"size\":12,\n",
    "        \"color\":\"rgb(54,144,192)\",\n",
    "        \"line\":{\n",
    "            \"width\":3,\n",
    "            \"color\":\"darkblue\"\n",
    "        }\n",
    "    }\n",
    "}\n",
    "\n",
    "trace2 = {\"x\":x2,\n",
    "    \"y\":y2,\n",
    "    \"name\":\"Control\",    \n",
    "    \"type\":\"scatter\",\n",
    "    \"line\":{\n",
    "        \"color\":\"purple\",\n",
    "        \"width\":4,\n",
    "        \"dash\":\"dashdot\"\n",
    "    },\n",
    "    \"marker\":{\n",
    "        \"opacity\":0.9,\n",
    "        \"symbol\":\"cross\",\n",
    "        \"size\":16,\n",
    "        \"color\":\"fuchsia\",\n",
    "        \"line\":{\n",
    "            \"color\":\"\",\n",
    "            \"width\":0\n",
    "        },\n",
    "    }\n",
    "}\n",
    "\n",
    "py.iplot([trace1, trace2])"
   ]
  },
  {
   "cell_type": "code",
   "execution_count": null,
   "metadata": {
    "collapsed": false
   },
   "outputs": [],
   "source": [
    "# basic-area \n",
    "trace0 = {'x': [1,2,3,4], \n",
    "  'y': [0, 2, 3, 5],\n",
    "  'fill': 'tozeroy'}\n",
    "\n",
    "trace1 = {'x': [1,2,3,4], \n",
    "  'y': [3,5,1,7],\n",
    "  'fill': 'tonexty'}\n",
    "\n",
    "py.iplot([trace0, trace1])"
   ]
  },
  {
   "cell_type": "code",
   "execution_count": null,
   "metadata": {
    "collapsed": false
   },
   "outputs": [],
   "source": [
    "# basic-bar \n",
    "x0 = ['giraffes', 'orangutans', 'monkeys'];\n",
    "y0 = [20, 14, 23];\n",
    "data = {'x': x0, 'y': y0,\n",
    "    'type': 'bar'}\n",
    "py.iplot([data])"
   ]
  },
  {
   "cell_type": "code",
   "execution_count": null,
   "metadata": {
    "collapsed": false
   },
   "outputs": [],
   "source": [
    "# grouped-bar \n",
    "categories = ['giraffes', 'orangutans', 'monkeys']; \n",
    "SF = {'name': 'SF Zoo', \n",
    "    'x': categories, \n",
    "    'y': [20, 14, 23],\n",
    "    'type': 'bar'}\n",
    "LA = {'name': 'LA Zoo',\n",
    "    'x': categories, \n",
    "    'y': [12,18,29],\n",
    "    'type': 'bar'}\n",
    "layout = {\n",
    "    'barmode': 'group',\n",
    "    'xaxis': {'type': 'category'},\n",
    "    'categories': categories}\n",
    "py.iplot([LA, SF], layout=layout)"
   ]
  },
  {
   "cell_type": "code",
   "execution_count": null,
   "metadata": {
    "collapsed": false
   },
   "outputs": [],
   "source": [
    "layout = {'barmode': 'stack',  \n",
    "    'xaxis': {'type': 'category'},\n",
    "    'categories': categories}\n",
    "py.iplot([SF, LA], layout=layout)"
   ]
  },
  {
   "cell_type": "code",
   "execution_count": null,
   "metadata": {
    "collapsed": false
   },
   "outputs": [],
   "source": [
    "categories=['giraffes', 'orangutans', 'monkeys']\n",
    "SF = {'name': 'SF Zoo', \n",
    "  'x': categories, \n",
    "  'y': [20, 14, 23],\n",
    "  'type': 'bar',\n",
    "  'marker':{\n",
    "    'color': 'orange',\n",
    "    'line': {'color': 'grey', \n",
    "      'width': 3}}\n",
    "  }\n",
    "\n",
    "LA = {'name': 'LA Zoo',\n",
    "  'x': categories, \n",
    "  'y': [12,18,29],\n",
    "  'type': 'bar',\n",
    "  'marker': {'color': 'rgb(111, 168, 220)',\n",
    "    'line': {'color': 'grey',\n",
    "      'width': 3}}\n",
    "  }\n",
    "\n",
    "layout = {\n",
    "  'title': 'Animal Population',\n",
    "  'barmode': 'group',\n",
    "  'yaxis': {'name': '# of animals (thousands)'},\n",
    "  'xaxis': {'type': 'category'},\n",
    "  'categories': categories,\n",
    "  'bargap': 0.25,\n",
    "  'bargroupgap': 0.3,\n",
    "  'bardir': 'v'}\n",
    "\n",
    "py.iplot([LA, SF], layout=layout)\n"
   ]
  },
  {
   "cell_type": "code",
   "execution_count": null,
   "metadata": {
    "collapsed": false
   },
   "outputs": [],
   "source": [
    "# Error Bars \n",
    "data = {'x': [0,1,2],\n",
    "  'y': [6,10,2],\n",
    "  'error_y': {'type': 'data',\n",
    "    'array': [1, 2, 3],\n",
    "    'visible': True}}\n",
    "py.iplot([data])"
   ]
  },
  {
   "cell_type": "code",
   "execution_count": null,
   "metadata": {
    "collapsed": false
   },
   "outputs": [],
   "source": [
    "# percent-error-bar \n",
    "data = {'x': [0,1,2],\n",
    "  'y': [6,8,4],\n",
    "  'error_y': {'type': 'percent',\n",
    "    'value': 50,\n",
    "    'visible': True}}\n",
    "py.iplot([data])"
   ]
  },
  {
   "cell_type": "code",
   "execution_count": null,
   "metadata": {
    "collapsed": false
   },
   "outputs": [],
   "source": [
    "categories = ['Trial 1', 'Trial 2', 'Trial 3']\n",
    "control = {'x': categories, \n",
    "  'y': [3, 6, 4],\n",
    "  'type': 'bar',\n",
    "  'marker':{'color': 'rgb(74, 134, 232)'},\n",
    "  'error_y': {'type': 'data',\n",
    "    'array': [1, 0.5, 1.5],\n",
    "    'visible': True,\n",
    "    'color': 'rgb(67, 67, 67)'}}\n",
    "exp = {'x': categories,\n",
    "  'y': [4, 7, 3],\n",
    "  'type': 'bar',\n",
    "  'marker':{'color':'rgb(111, 168, 220)'},\n",
    "  'error_y': {'type': 'data',\n",
    "    'array': [0.5, 1, 2],\n",
    "    'visible': True,\n",
    "    'color': 'rgb(67, 67, 67)'}}\n",
    "layout = {'barmode': 'group'}\n",
    "\n",
    "py.iplot([control, exp], layout=layout)"
   ]
  },
  {
   "cell_type": "code",
   "execution_count": null,
   "metadata": {
    "collapsed": false
   },
   "outputs": [],
   "source": [
    "# basic-box-plot \n",
    "box1 = {'y': [0, 1, 2, 4],\n",
    "    'type': 'box'}\n",
    "box2 = {'y': [1,2,4,5,8],\n",
    "    'type': 'box'}\n",
    "py.iplot([box1, box2])"
   ]
  },
  {
   "cell_type": "code",
   "execution_count": null,
   "metadata": {
    "collapsed": false
   },
   "outputs": [],
   "source": [
    "# jitter \n",
    "from numpy import *\n",
    "box = {'y': random.randn(50),\n",
    "    'type': 'box',\n",
    "    'boxpoints': 'all',\n",
    "    'jitter': 0.3,  \n",
    "    'pointpos': -1.8} \n",
    "py.iplot([box])\n"
   ]
  },
  {
   "cell_type": "code",
   "execution_count": null,
   "metadata": {
    "collapsed": false
   },
   "outputs": [],
   "source": [
    "from numpy import *\n",
    "x = random.randn(500) # normally distributed vector\n",
    "data = {'x': x,\n",
    "    'type': 'histogramx'}\n",
    "py.iplot([data])"
   ]
  },
  {
   "cell_type": "code",
   "execution_count": null,
   "metadata": {
    "collapsed": false
   },
   "outputs": [],
   "source": [
    "# stacked-histo \n",
    "from numpy import *\n",
    "x0 = random.randn(500)\n",
    "x1 = random.randn(500)+1\n",
    "data0 = {'x': x0,\n",
    "    'type': 'histogramx'}\n",
    "data1 = {'x': x1,\n",
    "    'type': 'histogramx'}\n",
    "layout = {'barmode': 'stack'}\n",
    "py.iplot([data0, data1], layout=layout)"
   ]
  },
  {
   "cell_type": "code",
   "execution_count": null,
   "metadata": {
    "collapsed": false
   },
   "outputs": [],
   "source": [
    "layout = {'barmode': 'overlay'} \n",
    "py.iplot([data0, data1], layout=layout)\n"
   ]
  },
  {
   "cell_type": "code",
   "execution_count": null,
   "metadata": {
    "collapsed": false
   },
   "outputs": [],
   "source": [
    "# style-histo \n",
    "from numpy import *\n",
    "x0 = random.randn(500)\n",
    "x1 = random.randn(500)+1\n",
    "data0 = {'x': x0,\n",
    "  'type': 'histogramx',\n",
    "  'name': 'control',\n",
    "  'marker':{\n",
    "    'color': 'rgba(255,0,255,0.75)',\n",
    "    'opacity': 0.75,\n",
    "    },\n",
    "  'autobinx': False,\n",
    "  'xbins':{\n",
    "    'start': -3.2,\n",
    "    'end': 2.8,\n",
    "    'size': 0.2\n",
    "    },\n",
    "  'histnorm': 'count'\n",
    "}\n",
    "data1 = {'x': x1,\n",
    "  'name': 'experiment',\n",
    "  'type': 'histogramx',\n",
    "  'marker':{\n",
    "    'color': 'rgba(255, 217, 102,0.75)',\n",
    "    'opacity': 0.75},\n",
    "  'autobinx': False,\n",
    "  'xbins':{\n",
    "    'start': -1.8,\n",
    "    'end': 4.2,\n",
    "    'size': 0.2\n",
    "    }\n",
    "  }\n",
    "\n",
    "layout = {'barmode': 'overlay',\n",
    "  'bargap': 0.25,\n",
    "  'bargroupgap': 0.3,\n",
    "  'bardir': 'v',\n",
    "  'title': 'Sampled Results',\n",
    "  'xaxis': {'title': 'Value'},\n",
    "  'yaxis': {'title': 'Count'}}  \n",
    "py.iplot([data0, data1], layout=layout)"
   ]
  },
  {
   "cell_type": "code",
   "execution_count": null,
   "metadata": {
    "collapsed": false
   },
   "outputs": [],
   "source": [
    "from numpy import *\n",
    "x = random.randn(500)\n",
    "y = random.randn(500)+1\n",
    "data = {'x': x, 'y': y,\n",
    "    'type': 'histogram2d'}\n",
    "py.iplot([data])"
   ]
  },
  {
   "cell_type": "code",
   "execution_count": null,
   "metadata": {
    "collapsed": false
   },
   "outputs": [],
   "source": [
    "from numpy import *\n",
    "x = random.randn(500)\n",
    "y = random.randn(500)+1\n",
    "data = {'x': x, \n",
    "    'y': y,\n",
    "    'type': 'histogram2d',\n",
    "    'autobinx': False,\n",
    "    'xbins': {\n",
    "        'start': -3,\n",
    "        'end': 3,\n",
    "        'size': 0.1\n",
    "    },\n",
    "    'autobiny': False,\n",
    "    'ybins': {\n",
    "        'start': -2.5,\n",
    "        'end': 4,\n",
    "        'size': 0.1\n",
    "    },\n",
    "    'scl': [[0,\"rgb(12,51,131)\"],\\\n",
    "        [0.25,\"rgb(10,136,186)\"],\\\n",
    "        [0.5,\"rgb(242,211,56)\"],\\\n",
    "        [0.75,\"rgb(242,143,56)\"],\\\n",
    "        [1,\"rgb(217,30,30)\"]],\n",
    "    'histnorm': 'probability'\n",
    "}\n",
    "\n",
    "layout =  {\n",
    "    'xaxis':{\n",
    "        'range':[-2,2],\n",
    "        'autorange':False\n",
    "    },'yaxis':{\n",
    "        'range':[-1,3],\n",
    "        'autorange':False \n",
    "        },\n",
    "    'width':520,'height':380,\n",
    "    'autosize':False\n",
    "    }\n",
    "\n",
    "py.iplot([data],layout=layout)"
   ]
  },
  {
   "cell_type": "code",
   "execution_count": null,
   "metadata": {
    "collapsed": false
   },
   "outputs": [],
   "source": [
    "# basic-heatmap \n",
    "z = [[1., 20., 30 ],\\\n",
    "     [20., 1., 60 ],\\\n",
    "     [30., 60., 1.]]\n",
    "data = {'z': z,\n",
    "    'type': 'heatmap'}\n",
    "py.iplot([data])\n"
   ]
  },
  {
   "cell_type": "code",
   "execution_count": null,
   "metadata": {
    "collapsed": false
   },
   "outputs": [],
   "source": [
    "x = ['Monday', 'Tuesday', 'Wednesday', 'Thursday', 'Friday']\n",
    "y = ['Morning', 'Afternoon', 'Evening']\n",
    "z = [[1., 20., 30, 50, 1],\\\n",
    "     [20., 1., 60, 80, 30 ],\\\n",
    "     [30., 60., 1., -10, 20]]\n",
    "data = {'x': x,\n",
    "    'y': y,\n",
    "    'z': z,\n",
    "    'type': 'heatmap'}\n",
    "py.iplot([data])\n"
   ]
  },
  {
   "cell_type": "code",
   "execution_count": null,
   "metadata": {
    "collapsed": false
   },
   "outputs": [],
   "source": [
    "from numpy import *\n",
    "x0 = linspace(0, 5, 15)\n",
    "y0 = sin(x0) + random.rand(15)\n",
    "data0 = {'x': x0,'y': y0,\n",
    "    'type': 'scatter'}\n",
    "\n",
    "x1 = [0, 1, 2, 3, 4, 5]\n",
    "y1 = [1, 0.5, 0.7, -1.2, 0.3, 0.4]\n",
    "data1 = {'x': x1,'y': y1,\n",
    "    'type': 'bar'}\n",
    "\n",
    "py.iplot([data0, data1])"
   ]
  },
  {
   "cell_type": "code",
   "execution_count": null,
   "metadata": {
    "collapsed": false
   },
   "outputs": [],
   "source": [
    "from numpy import *\n",
    " \n",
    "x0 = random.randn(100)/5. + 0.5 \n",
    "y0 = random.randn(100)/5. + 0.5 \n",
    " \n",
    "x1 = random.rayleigh(size=80)/7. + 0.1\n",
    "y1 = random.rayleigh(size=80)/8. + 1.1\n",
    " \n",
    "y = concatenate([y0,y1])\n",
    "x = concatenate([x0,x1])\n",
    "\n",
    "data0 = {'x': x0, 'y': y0, \n",
    "  'marker':{'symbol':'circle'},\n",
    "  'type': 'scatter', 'mode': 'markers'}\n",
    "data1 = {'x': x1, 'y': y1, \n",
    "  'marker':{'symbol':'cross'},\n",
    "  'type': 'scatter', 'mode': 'markers'}\n",
    " \n",
    "data_hist = {'x': x, 'y': y, \n",
    "  'type':'histogram2d'}\n",
    "\n",
    "py.iplot([data0,data1,data_hist])\n"
   ]
  }
 ],
 "metadata": {
  "kernelspec": {
   "display_name": "Python 2",
   "language": "python",
   "name": "python2"
  },
  "language_info": {
   "codemirror_mode": {
    "name": "ipython",
    "version": 2
   },
   "file_extension": ".py",
   "mimetype": "text/x-python",
   "name": "python",
   "nbconvert_exporter": "python",
   "pygments_lexer": "ipython2",
   "version": "2.7.9"
  }
 },
 "nbformat": 4,
 "nbformat_minor": 0
}
