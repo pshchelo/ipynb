{
 "metadata": {
  "name": "",
  "signature": "sha256:7fc899c1a9dacb884d019053ca5b2239ddcbaa73c66f48c889ecc5bd22d7ce5f"
 },
 "nbformat": 3,
 "nbformat_minor": 0,
 "worksheets": [
  {
   "cells": [
    {
     "cell_type": "code",
     "collapsed": false,
     "input": [
      "import Quandl as q"
     ],
     "language": "python",
     "metadata": {},
     "outputs": []
    },
    {
     "cell_type": "markdown",
     "metadata": {},
     "source": [
      "Get your API token at http://www.quandl.com/users/edit to be able to make up unlimited queries (50 for anonymous users).\n",
      "\n",
      "It will be saved next to your notebook as `authtoken.p` for later automatic reuse."
     ]
    },
    {
     "cell_type": "code",
     "collapsed": false,
     "input": [
      "#ukrgdp = q.get('WORLDBANK/UKR_NY_GDP_MKTP_CN', authtoken=auth)\n",
      "ukrgdp = q.get('WORLDBANK/UKR_NY_GDP_MKTP_CN')"
     ],
     "language": "python",
     "metadata": {},
     "outputs": []
    },
    {
     "cell_type": "code",
     "collapsed": false,
     "input": [
      "ukrgdp.plot()"
     ],
     "language": "python",
     "metadata": {},
     "outputs": []
    },
    {
     "cell_type": "code",
     "collapsed": false,
     "input": [],
     "language": "python",
     "metadata": {},
     "outputs": []
    }
   ],
   "metadata": {}
  }
 ]
}