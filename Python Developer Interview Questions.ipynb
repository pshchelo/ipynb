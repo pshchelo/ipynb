{
 "cells": [
  {
   "cell_type": "markdown",
   "metadata": {},
   "source": [
    "# Python"
   ]
  },
  {
   "cell_type": "markdown",
   "metadata": {},
   "source": [
    "### General Questions"
   ]
  },
  {
   "cell_type": "markdown",
   "metadata": {},
   "source": [
    "* What data structures Python has?\n",
    "  + Mutability\n",
    "* Iterators\n",
    "* Generators\n",
    "* Decorators\n",
    "* Methods, class methods, static methods\n",
    "* Properties\n",
    "* *Descriptors*\n",
    "* *How Python dict works*"
   ]
  },
  {
   "cell_type": "markdown",
   "metadata": {},
   "source": [
    "### Task 1 - what would be the output? Explain"
   ]
  },
  {
   "cell_type": "code",
   "execution_count": null,
   "metadata": {
    "collapsed": false
   },
   "outputs": [],
   "source": [
    "l = [ [ ] ] * 5\n",
    "l[0].append(10)\n",
    "l[1].append(20)\n",
    "l.append(30)\n",
    "print(l)"
   ]
  },
  {
   "cell_type": "markdown",
   "metadata": {},
   "source": [
    "### Task 2 - what would be the output? Explain"
   ]
  },
  {
   "cell_type": "code",
   "execution_count": null,
   "metadata": {
    "collapsed": false
   },
   "outputs": [],
   "source": [
    "def extendList(val, l=[]):\n",
    "    l.append(val)\n",
    "    return l\n",
    "\n",
    "print(extendList(10))\n",
    "print(extendList(123, [1]))\n",
    "print(extendList('a'))"
   ]
  },
  {
   "cell_type": "markdown",
   "metadata": {},
   "source": [
    "### Task 3 - what would be the output? Explain"
   ]
  },
  {
   "cell_type": "code",
   "execution_count": null,
   "metadata": {
    "collapsed": false
   },
   "outputs": [],
   "source": [
    "class Parent(object):\n",
    "    x = 1\n",
    "\n",
    "class Child1(Parent):\n",
    "    pass\n",
    "\n",
    "class Child2(Parent):\n",
    "    pass\n",
    "\n",
    "print(Parent.x, Child1.x, Child2.x)\n",
    "\n",
    "Parent.x = 3\n",
    "Child1.x = 2\n",
    "\n",
    "print(Parent.x, Child1.x, Child2.x)"
   ]
  },
  {
   "cell_type": "markdown",
   "metadata": {},
   "source": [
    "### Task 4 - add memoization to a function"
   ]
  },
  {
   "cell_type": "code",
   "execution_count": null,
   "metadata": {
    "collapsed": true
   },
   "outputs": [],
   "source": [
    "def fib(n):\n",
    "    if n is 0 or n is 1:\n",
    "        return 1\n",
    "    else:\n",
    "        return fib(n-1) + fib(n-2)\n",
    "    \n",
    "#def memoize...\n",
    "#    ...\n",
    "\n",
    "# bonus points - show that it improves performance by tracing calls to fib function"
   ]
  },
  {
   "cell_type": "markdown",
   "metadata": {},
   "source": [
    "# Linux\n",
    "\n",
    "- shell\n",
    "  - cd, ls, cat, grep, piping one to another\n",
    "- env variables    \n",
    "- standard file system structure\n",
    "  - logs\n",
    "  - config files"
   ]
  },
  {
   "cell_type": "markdown",
   "metadata": {},
   "source": [
    "# Networks\n",
    "\n",
    "- 192.168.0.0/24\n",
    "- OSI model\n",
    "- TCP vs UDP\n",
    "- DNS"
   ]
  },
  {
   "cell_type": "markdown",
   "metadata": {},
   "source": [
    "# Git\n",
    "\n",
    "- what is index?\n",
    "- what is stash?\n",
    "- remotes?\n",
    "- change last / not last commit\n",
    "- conflicts resolution\n",
    "- how to replant a branch?\n",
    "- Gerrit experience?"
   ]
  },
  {
   "cell_type": "markdown",
   "metadata": {},
   "source": [
    "### Example Solution to Task 4"
   ]
  },
  {
   "cell_type": "markdown",
   "metadata": {},
   "source": [
    "#### Memoization decorator"
   ]
  },
  {
   "cell_type": "code",
   "execution_count": null,
   "metadata": {
    "collapsed": true
   },
   "outputs": [],
   "source": [
    "def memoize(f):\n",
    "    cache = {}\n",
    "    def g(x):\n",
    "        if x not in cache:\n",
    "            cache[x] = f(x)\n",
    "        return cache[x]\n",
    "    return g"
   ]
  },
  {
   "cell_type": "markdown",
   "metadata": {},
   "source": [
    "#### Tracing decorator"
   ]
  },
  {
   "cell_type": "code",
   "execution_count": null,
   "metadata": {
    "collapsed": false
   },
   "outputs": [],
   "source": [
    "def trace(f):\n",
    "    def g(x):\n",
    "        print(\"Calling %s with %s\" % (f.__name__, x))\n",
    "        value = f(x)\n",
    "        return value\n",
    "    return g"
   ]
  },
  {
   "cell_type": "markdown",
   "metadata": {},
   "source": [
    "#### Traced"
   ]
  },
  {
   "cell_type": "code",
   "execution_count": null,
   "metadata": {
    "collapsed": true
   },
   "outputs": [],
   "source": [
    "fib = trace(fib)\n",
    "fib(4)"
   ]
  },
  {
   "cell_type": "markdown",
   "metadata": {},
   "source": [
    "#### Memoized and traced"
   ]
  },
  {
   "cell_type": "code",
   "execution_count": null,
   "metadata": {
    "collapsed": false
   },
   "outputs": [],
   "source": [
    "fib = memoize(fib)\n",
    "fib(4)"
   ]
  }
 ],
 "metadata": {
  "kernelspec": {
   "display_name": "Python 2",
   "language": "python",
   "name": "python2"
  },
  "language_info": {
   "codemirror_mode": {
    "name": "ipython",
    "version": 2
   },
   "file_extension": ".py",
   "mimetype": "text/x-python",
   "name": "python",
   "nbconvert_exporter": "python",
   "pygments_lexer": "ipython2",
   "version": "2.7.9"
  }
 },
 "nbformat": 4,
 "nbformat_minor": 0
}
