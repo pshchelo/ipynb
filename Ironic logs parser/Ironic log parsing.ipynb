{
 "cells": [
  {
   "cell_type": "markdown",
   "metadata": {},
   "source": [
    "# Parsing Ironic Conductor logs from Scale testing\n",
    "Note - the code is very ad-hoc and loads full Ironic Conductor log in memory to parse and analyze it."
   ]
  },
  {
   "cell_type": "code",
   "execution_count": null,
   "metadata": {
    "collapsed": true
   },
   "outputs": [],
   "source": [
    "import datetime\n",
    "import re\n",
    "import pandas"
   ]
  },
  {
   "cell_type": "code",
   "execution_count": null,
   "metadata": {
    "collapsed": false
   },
   "outputs": [],
   "source": [
    "with open('/home/pshchelo/Downloads/log') as f:\n",
    "    rawstr = f.readlines()"
   ]
  },
  {
   "cell_type": "code",
   "execution_count": null,
   "metadata": {
    "collapsed": true
   },
   "outputs": [],
   "source": [
    "dt_re_str = \"(?P<timestamp>\\d{4}-\\d{2}-\\d{2} \\d{2}:\\d{2}:\\d{2}\\.\\d{3})\"\n",
    "uuid_re_str = \"(?P<uuid>[0-9a-f]{8}-[0-9a-f]{4}-[0-9a-f]{4}-[0-9a-f]{4}-[0-9a-f]{12})\"\n",
    "tsformat = \"%Y-%m-%d %H:%M:%S.%f\""
   ]
  },
  {
   "cell_type": "code",
   "execution_count": null,
   "metadata": {
    "collapsed": false
   },
   "outputs": [],
   "source": [
    "# regexps for matching events\n",
    "start_re = re.compile(\"{ts}.*DEBUG.*RPC do_node_deploy called for node {uuid}\".format(ts=dt_re_str, uuid=uuid_re_str))\n",
    "done_re = re.compile(\"{ts}.*INFO.*Deployment to node {uuid} done\".format(ts=dt_re_str, uuid=uuid_re_str))\n",
    "ans_start_re = re.compile(\"{ts}.*DEBUG ironic_staging_drivers\\.ansible\\.deploy.*Call back from {uuid}\\.\".format(ts=dt_re_str, uuid=uuid_re_str))\n",
    "ipa_start_re = re.compile(\"{ts}.*INFO.* Initial lookup for node {uuid} succeeded\".format(ts=dt_re_str, uuid=uuid_re_str))\n",
    "fuel_start_re = re.compile(\"{ts}.*DEBUG.*RPC vendor_passthru called for node {uuid}\".format(ts=dt_re_str, uuid=uuid_re_str))"
   ]
  },
  {
   "cell_type": "code",
   "execution_count": null,
   "metadata": {
    "collapsed": true
   },
   "outputs": [],
   "source": [
    "# time slots of tests\n",
    "slot_format = \"%Y-%m-%d %H:%M\"\n",
    "fuel_time_slot = (datetime.datetime.strptime(\"2016-06-27 16:43\", slot_format), datetime.datetime.strptime(\"2016-06-27 16:59\", slot_format))\n",
    "ipa_time_slot = (datetime.datetime.strptime(\"2016-06-27 17:13\", slot_format), datetime.datetime.strptime(\"2016-06-27 17:27\", slot_format))\n",
    "ansible_time_slot = (datetime.datetime.strptime(\"2016-06-27 17:35\", slot_format), datetime.datetime.strptime(\"2016-06-27 17:46\", slot_format))\n",
    "ipa_tor_time_slot = (datetime.datetime.strptime(\"2016-06-27 17:53\", slot_format), datetime.datetime.strptime(\"2016-06-27 18:02\", slot_format))\n",
    "ansible_tor_time_slot = (datetime.datetime.strptime(\"2016-06-27 18:10\", slot_format), datetime.datetime.strptime(\"2016-06-27 18:18\", slot_format))"
   ]
  },
  {
   "cell_type": "code",
   "execution_count": null,
   "metadata": {
    "collapsed": true
   },
   "outputs": [],
   "source": [
    "def parse_events(raw_data, driver_name, driver_matcher):\n",
    "    nodes = {}\n",
    "    for s in raw_data:\n",
    "        m = start_re.match(s)\n",
    "        if m:\n",
    "            uuid = m.groupdict()['uuid']\n",
    "            ts = m.groupdict()['timestamp']\n",
    "            if uuid not in nodes:\n",
    "                nodes[uuid] = []\n",
    "            nodes[uuid].append(dict(time=datetime.datetime.strptime(ts, tsformat), action='start', driver=None, match=m))\n",
    "            continue\n",
    "        m2 = driver_matcher.match(s)\n",
    "        if m2:\n",
    "            uuid = m2.groupdict()['uuid']\n",
    "            ts = m2.groupdict()['timestamp']\n",
    "            if uuid not in nodes:\n",
    "                nodes[uuid] = []\n",
    "            nodes[uuid].append(dict(time=datetime.datetime.strptime(ts, tsformat), action='deploy', driver=driver_name, match=m2))\n",
    "            continue\n",
    "        m3 = done_re.match(s)\n",
    "        if m3:\n",
    "            uuid = m3.groupdict()['uuid']\n",
    "            ts = m3.groupdict()['timestamp']\n",
    "            if uuid not in nodes:\n",
    "                nodes[uuid] = []\n",
    "            nodes[uuid].append(dict(time=datetime.datetime.strptime(ts, tsformat), action='done', driver=None, match=m3))\n",
    "    return nodes"
   ]
  },
  {
   "cell_type": "code",
   "execution_count": null,
   "metadata": {
    "collapsed": true
   },
   "outputs": [],
   "source": [
    "def filter_complete_cycles(events, driver):\n",
    "    deploys = {}\n",
    "    for node, val in events.items():\n",
    "        for i, item in enumerate(val):\n",
    "            if item['driver'] == driver:\n",
    "                if node not in deploys:\n",
    "                    deploys[node] = []\n",
    "                if val[i-1]['action'] == 'start' and val[i+1]['action'] == 'done':\n",
    "                    deploy = dict(start=val[i-1]['time'],\n",
    "                                  deploy=val[i]['time'],\n",
    "                                  done=val[i+1]['time'])\n",
    "                    deploy['delta_all'] = deploy['done'] - deploy['start']\n",
    "                    deploy['delta_boot'] = deploy['deploy'] - deploy['start']\n",
    "                    deploy['delta_deploy'] = deploy['done'] - deploy['deploy']\n",
    "                    deploys[node].append(deploy)\n",
    "    return deploys"
   ]
  },
  {
   "cell_type": "code",
   "execution_count": null,
   "metadata": {
    "collapsed": false
   },
   "outputs": [],
   "source": [
    "def test_run(all_deploys, time_slot):\n",
    "    runs = []\n",
    "    for node, deploys in all_deploys.items():\n",
    "        for deploy in deploys:\n",
    "            if (deploy['start'] >= time_slot[0] and deploy['done'] <= time_slot[1] ):\n",
    "                runs.append(deploy)\n",
    "    return runs"
   ]
  },
  {
   "cell_type": "code",
   "execution_count": null,
   "metadata": {
    "collapsed": false
   },
   "outputs": [],
   "source": [
    "def get_run_stats(runs, metric):\n",
    "    series = pandas.Series([i[metric] for i in runs])\n",
    "    print(series.describe())"
   ]
  },
  {
   "cell_type": "code",
   "execution_count": null,
   "metadata": {
    "collapsed": false
   },
   "outputs": [],
   "source": [
    "ansible_deploys = filter_complete_cycles(parse_events(rawstr, 'ansible', ans_start_re), 'ansible')"
   ]
  },
  {
   "cell_type": "code",
   "execution_count": null,
   "metadata": {
    "collapsed": false
   },
   "outputs": [],
   "source": [
    "ansible_http_runs = test_run(ansible_deploys, ansible_time_slot)\n",
    "get_run_stats(ansible_http_runs, 'delta_all')\n",
    "get_run_stats(ansible_http_runs, 'delta_deploy')"
   ]
  },
  {
   "cell_type": "code",
   "execution_count": null,
   "metadata": {
    "collapsed": false
   },
   "outputs": [],
   "source": [
    "ansible_tor_runs = test_run(ansible_deploys, ansible_tor_time_slot)\n",
    "get_run_stats(ansible_tor_runs, 'delta_all')\n",
    "get_run_stats(ansible_tor_runs, 'delta_deploy')"
   ]
  },
  {
   "cell_type": "code",
   "execution_count": null,
   "metadata": {
    "collapsed": false
   },
   "outputs": [],
   "source": [
    "ipa_deploys = filter_complete_cycles(parse_events(rawstr, 'ipa', ipa_start_re), 'ipa')"
   ]
  },
  {
   "cell_type": "code",
   "execution_count": null,
   "metadata": {
    "collapsed": false
   },
   "outputs": [],
   "source": [
    "ipa_http_runs = test_run(ipa_deploys, ipa_time_slot)\n",
    "get_run_stats(ipa_http_runs, 'delta_all')\n",
    "get_run_stats(ipa_http_runs, 'delta_deploy')"
   ]
  },
  {
   "cell_type": "code",
   "execution_count": null,
   "metadata": {
    "collapsed": false
   },
   "outputs": [],
   "source": [
    "ipa_tor_runs = test_run(ipa_deploys, ipa_tor_time_slot)\n",
    "get_run_stats(ipa_tor_runs, 'delta_all')\n",
    "get_run_stats(ipa_tor_runs, 'delta_deploy')"
   ]
  },
  {
   "cell_type": "code",
   "execution_count": null,
   "metadata": {
    "collapsed": true
   },
   "outputs": [],
   "source": [
    "fuel_deploys = filter_complete_cycles(parse_events(rawstr, 'fuel', fuel_start_re), 'fuel')"
   ]
  },
  {
   "cell_type": "code",
   "execution_count": null,
   "metadata": {
    "collapsed": false
   },
   "outputs": [],
   "source": [
    "fuel_runs = test_run(fuel_deploys, fuel_time_slot)\n",
    "get_run_stats(fuel_runs, 'delta_all')\n",
    "get_run_stats(fuel_runs, 'delta_deploy')"
   ]
  }
 ],
 "metadata": {
  "kernelspec": {
   "display_name": "Python 2",
   "language": "python",
   "name": "python2"
  },
  "language_info": {
   "codemirror_mode": {
    "name": "ipython",
    "version": 2
   },
   "file_extension": ".py",
   "mimetype": "text/x-python",
   "name": "python",
   "nbconvert_exporter": "python",
   "pygments_lexer": "ipython2",
   "version": "2.7.9"
  }
 },
 "nbformat": 4,
 "nbformat_minor": 0
}
