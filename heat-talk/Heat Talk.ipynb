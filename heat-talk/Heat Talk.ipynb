{
 "cells": [
  {
   "cell_type": "markdown",
   "metadata": {
    "slideshow": {
     "slide_type": "slide"
    }
   },
   "source": [
    "# Heat - Basics and Advanced Features"
   ]
  },
  {
   "cell_type": "code",
   "execution_count": 1,
   "metadata": {
    "collapsed": true,
    "slideshow": {
     "slide_type": "skip"
    }
   },
   "outputs": [],
   "source": [
    "from IPython.display import HTML, IFrame, Image"
   ]
  },
  {
   "cell_type": "markdown",
   "metadata": {
    "slideshow": {
     "slide_type": "slide"
    }
   },
   "source": [
    "## Heat Introduction"
   ]
  },
  {
   "cell_type": "markdown",
   "metadata": {
    "slideshow": {
     "slide_type": "subslide"
    }
   },
   "source": [
    "### Heat is an Orchestration service of OpenStack"
   ]
  },
  {
   "cell_type": "markdown",
   "metadata": {
    "slideshow": {
     "slide_type": "fragment"
    }
   },
   "source": [
    "* Prepare infrastructure for your cloud application\n",
    "  * Some support of actual applicaiton deployment\n",
    "* Automate OpenStack API calls\n",
    "* Human- and machine-readable representation\n",
    "* Treat your infrastructure as code"
   ]
  },
  {
   "cell_type": "markdown",
   "metadata": {
    "slideshow": {
     "slide_type": "subslide"
    }
   },
   "source": [
    "**Whatever you can make with a series of OpenStack API calls - it can be done with Heat!**\n",
    "\n",
    "* API calls for CRUD operations on OpenStack services entities\n",
    "* calls are made in correct order when needed"
   ]
  },
  {
   "cell_type": "markdown",
   "metadata": {
    "slideshow": {
     "slide_type": "slide"
    }
   },
   "source": [
    "## Heat architecture"
   ]
  },
  {
   "cell_type": "code",
   "execution_count": 2,
   "metadata": {
    "collapsed": true,
    "slideshow": {
     "slide_type": "skip"
    }
   },
   "outputs": [],
   "source": [
    "heat_arch={'url': \"https://docs.google.com/drawings/d/1e_BOmSe9L89azynhZn3G93it0sxUVqewKKyxewforDg/pub?w=640&h=480\"}"
   ]
  },
  {
   "cell_type": "code",
   "execution_count": 3,
   "metadata": {
    "collapsed": false,
    "slideshow": {
     "slide_type": "subslide"
    }
   },
   "outputs": [
    {
     "data": {
      "text/html": [
       "<img src=\"https://docs.google.com/drawings/d/1e_BOmSe9L89azynhZn3G93it0sxUVqewKKyxewforDg/pub?w=640&h=480\"/>"
      ],
      "text/plain": [
       "<IPython.core.display.Image object>"
      ]
     },
     "execution_count": 3,
     "metadata": {},
     "output_type": "execute_result"
    }
   ],
   "source": [
    "Image(**heat_arch)"
   ]
  },
  {
   "cell_type": "markdown",
   "metadata": {
    "slideshow": {
     "slide_type": "subslide"
    }
   },
   "source": [
    "### API Services\n",
    "\n",
    "+ **heat-api** - REST API endpoint for OpenStack API\n",
    "+ **heat-api-cfn** - REST API compatible with AWS CFN API\n",
    "+ **heat-api-cloudwatch** - specialized API where ``heat-cfntools`` posts in-instance metrics"
   ]
  },
  {
   "cell_type": "markdown",
   "metadata": {
    "slideshow": {
     "slide_type": "subslide"
    }
   },
   "source": [
    "\n",
    "### heat-engine - does most of the work\n",
    "\n",
    "+ parses template and builds a graph of dependencies\n",
    "+ generates internal resources representation\n",
    "+ executes the graph calling OpenStack clients' APIs\n",
    "+ horizontally scalable\n",
    "  - multiple workers per engine process\n",
    "  - multiple engines (on different hosts)"
   ]
  },
  {
   "cell_type": "markdown",
   "metadata": {
    "slideshow": {
     "slide_type": "slide"
    }
   },
   "source": [
    "## Template formats"
   ]
  },
  {
   "cell_type": "markdown",
   "metadata": {
    "slideshow": {
     "slide_type": "subslide"
    }
   },
   "source": [
    "### 3 supported formats"
   ]
  },
  {
   "cell_type": "markdown",
   "metadata": {
    "slideshow": {
     "slide_type": "fragment"
    }
   },
   "source": [
    "* AWS-compatible\n",
    "* AWS yaml representation\n",
    "* Native Heat Orchestration Template (HOT)"
   ]
  },
  {
   "cell_type": "markdown",
   "metadata": {
    "slideshow": {
     "slide_type": "subslide"
    }
   },
   "source": [
    "### AWSTemplateFormatVersion"
   ]
  },
  {
   "cell_type": "markdown",
   "metadata": {
    "slideshow": {
     "slide_type": "fragment"
    }
   },
   "source": [
    "* Historically the first supported format\n",
    "* Written in JSON\n",
    "* Format is compatible with AWS CloudFormation\n",
    "  * Your (simple) templates will run both on AWS CFN and OpenStack"
   ]
  },
  {
   "cell_type": "markdown",
   "metadata": {
    "slideshow": {
     "slide_type": "subslide"
    }
   },
   "source": [
    "```json\n",
    "{\n",
    "  \"AWSTemplateFormatVersion\": \"2010-09-09\",\n",
    "  \"Description\": \"Example AWS CFN template\",\n",
    "  \"Parameters\" : {\n",
    "    \"KeyName\" : {\n",
    "      \"Type\" : \"String\"\n",
    "    }\n",
    "  },\n",
    "  \"Resources\": {\n",
    "    \"CfnLBUser\" : {\n",
    "      \"Type\" : \"AWS::IAM::User\"\n",
    "    },\n",
    "    \"CfnLBAccessKey\" : {\n",
    "      \"Type\" : \"AWS::IAM::AccessKey\"\n",
    "    }\n",
    "  }\n",
    "}\n",
    "```"
   ]
  },
  {
   "cell_type": "markdown",
   "metadata": {
    "slideshow": {
     "slide_type": "subslide"
    }
   },
   "source": [
    "### HeatTemplateFormatVersion"
   ]
  },
  {
   "cell_type": "markdown",
   "metadata": {
    "slideshow": {
     "slide_type": "fragment"
    }
   },
   "source": [
    "* YAML version of AWS CFN templates\n",
    "* created due to popular demand\n",
    "\n",
    "```python\n",
    "yaml.dumps(json.loads(template))\n",
    "```"
   ]
  },
  {
   "cell_type": "markdown",
   "metadata": {
    "slideshow": {
     "slide_type": "subslide"
    }
   },
   "source": [
    "```yaml\n",
    "HeatTemplateFormatVersion: 2012-12-12\n",
    "Description: >\n",
    "  Example Heat template (AWS-style)\n",
    "Parameters:\n",
    "  KeyName:\n",
    "    Type: String\n",
    "Resources:\n",
    "  CfnLBUser:\n",
    "    Type: AWS::IAM::User\n",
    "  CfnLBAccessKey:\n",
    "    Type: AWS::IAM::AccessKey\n",
    "```"
   ]
  },
  {
   "cell_type": "markdown",
   "metadata": {
    "slideshow": {
     "slide_type": "subslide"
    }
   },
   "source": [
    "### Native HOT format"
   ]
  },
  {
   "cell_type": "markdown",
   "metadata": {
    "slideshow": {
     "slide_type": "fragment"
    }
   },
   "source": [
    "* written in YAML\n",
    "* most of development and innovation happens here\n",
    "  * not necessary to keep AWS compatibility"
   ]
  },
  {
   "cell_type": "markdown",
   "metadata": {
    "slideshow": {
     "slide_type": "subslide"
    }
   },
   "source": [
    "```yaml\n",
    "heat_template_format: 2010-09-09\n",
    "description: Example HOT template\n",
    "parameters:\n",
    "  key_name:\n",
    "    type: string\n",
    "resources:\n",
    "  password:\n",
    "    type: OS::Heat::RandomString\n",
    "```"
   ]
  },
  {
   "cell_type": "markdown",
   "metadata": {
    "collapsed": true,
    "slideshow": {
     "slide_type": "slide"
    }
   },
   "source": [
    "## Template anatomy"
   ]
  },
  {
   "cell_type": "markdown",
   "metadata": {
    "slideshow": {
     "slide_type": "subslide"
    }
   },
   "source": [
    "### Six top-level sections\n",
    "* Template version specifier"
   ]
  },
  {
   "cell_type": "markdown",
   "metadata": {
    "slideshow": {
     "slide_type": "fragment"
    }
   },
   "source": [
    "* Resources (optional, but why would you? :) )\n",
    "* Parameters (optional)\n",
    "* Outputs (optional)\n",
    "* Description (optional)\n",
    "* Parameter groups (optional, for UI tools)"
   ]
  },
  {
   "cell_type": "markdown",
   "metadata": {
    "slideshow": {
     "slide_type": "notes"
    }
   },
   "source": [
    "Resources are made optional so that in principle one could create an empty stack that can be populated later with `stack-update`. This is useful for tests that excersise the stacks API."
   ]
  },
  {
   "cell_type": "markdown",
   "metadata": {
    "slideshow": {
     "slide_type": "subslide"
    }
   },
   "source": [
    "```yaml\n",
    "heat_template_format: 2015-04-30\n",
    "```"
   ]
  },
  {
   "cell_type": "markdown",
   "metadata": {
    "slideshow": {
     "slide_type": "subslide"
    }
   },
   "source": [
    "```yaml\n",
    "parameters:\n",
    "  image:\n",
    "    type: string\n",
    "    default: TestVM\n",
    "    description: A secret image to boot\n",
    "    label: Image\n",
    "    hidden: True\n",
    "    constraints:\n",
    "    - custom_constraint: glance.image\n",
    "      description: Must be a valid Glance image\n",
    " ```"
   ]
  },
  {
   "cell_type": "markdown",
   "metadata": {
    "slideshow": {
     "slide_type": "subslide"
    }
   },
   "source": [
    "```yaml\n",
    "resources:\n",
    "  my_server:\n",
    "    type: OS::Nova::Server\n",
    "    properties:\n",
    "      image: { get_param: image }\n",
    "      flavor: m1.small\n",
    "```"
   ]
  },
  {
   "cell_type": "markdown",
   "metadata": {
    "slideshow": {
     "slide_type": "subslide"
    }
   },
   "source": [
    "```yaml\n",
    "outputs:\n",
    "  server_ip:\n",
    "    description: Private IP of the server\n",
    "    value: { get_attr: [ my_server, networks, private, 0 ] }\n",
    "```"
   ]
  },
  {
   "cell_type": "markdown",
   "metadata": {
    "slideshow": {
     "slide_type": "subslide"
    }
   },
   "source": [
    "### Intrinsic functions\n",
    "\n",
    "* `get_resource` - insert the UUID of the referenced resource\n",
    "* `get_param` - insert the value of the specified parameter\n",
    "* `get_attr` - insert an attribute of specified resource\n",
    "  * can dig into complex attributes by key or index\n",
    "* `get_file` - fetch the file from URI and insert verbatim\n",
    "* `str_replace` - replaces substrings in a string with provided values\n",
    "* `repeat` (*new in Kilo*) - repeat template snippets\n",
    "* ... and some more\n"
   ]
  },
  {
   "cell_type": "markdown",
   "metadata": {
    "slideshow": {
     "slide_type": "slide"
    }
   },
   "source": [
    "## Resources"
   ]
  },
  {
   "cell_type": "markdown",
   "metadata": {
    "slideshow": {
     "slide_type": "subslide"
    }
   },
   "source": [
    "* describe some entity in an OpenStack service\n",
    "  * usually that entity has a UUID in some DB of some OS service\n",
    "  * usually Heat's resource UUID is equal to the UUID of the thing it describes\n",
    "* three types of resources supported\n",
    "  * **AWS compatible ones** - `AWS::...::...`, API-compatible with AWS CFN\n",
    "  * **Native OpenStack** - `OS::...:...`, no limits on API, most innovation here\n",
    "  * **Custom resources** - can be written as `stevedore` plugins"
   ]
  },
  {
   "cell_type": "markdown",
   "metadata": {
    "slideshow": {
     "slide_type": "subslide"
    }
   },
   "source": [
    "### Resource description\n",
    "* `type` - one of the available resource types\n",
    "* `depends_on` - for explicit dependencies\n",
    "* `metadata` - any key-value pairs\n",
    "* `properties` - arguments to the API call, schema is resource specific\n",
    "* `update_policy` - how to update resource, resource-specific\n",
    "* `delete_policy` - `[ Delete | Retain | Snapshot ]`, resource-specific "
   ]
  },
  {
   "cell_type": "markdown",
   "metadata": {
    "slideshow": {
     "slide_type": "subslide"
    }
   },
   "source": [
    "### Built-in service help\n",
    "\n",
    "* `heat resource-type-list`\n",
    "  * shows the list of all currently registered resource types\n",
    "  * *caveat* - not all might be actually available to the user\n",
    "* `heat resource-type-show <type::of::resource>`\n",
    "  * shows a required structure of a resource as JSON template\n",
    "  * includes description and limitations of resource's properties"
   ]
  },
  {
   "cell_type": "markdown",
   "metadata": {
    "slideshow": {
     "slide_type": "subslide"
    }
   },
   "source": [
    "### Resource attributes\n",
    "* many resources have them\n",
    "* allow referencing some property of the resource instead of its UUID\n",
    "* accessed by `get_attr` function\n",
    "* used as inputs for properties of other resources or stack outputs \n",
    "* can have complex map/list structure and be traversed according to it"
   ]
  },
  {
   "cell_type": "markdown",
   "metadata": {
    "slideshow": {
     "slide_type": "subslide"
    }
   },
   "source": [
    "#### Complex attribute example\n",
    "`OS::Nova::Server` has `networks` attribute\n",
    "\n",
    "* its actual schema is `{“public”: [ip1, ip2...], “private”: [ip3, ip4]}`\n",
    "* a single IP can be accessed with\n",
    "```yaml\n",
    "value: { get_attr: [ server, networks, private, 0 ] }\n",
    "```"
   ]
  },
  {
   "cell_type": "markdown",
   "metadata": {
    "slideshow": {
     "slide_type": "slide"
    }
   },
   "source": [
    "## Environments"
   ]
  },
  {
   "cell_type": "markdown",
   "metadata": {
    "slideshow": {
     "slide_type": "subslide"
    }
   },
   "source": [
    "* Allow to customize a given template without changing it\n",
    "* Can be global (set by the cloud operator)\n",
    "* or local (provided by user)\n",
    "\n",
    "```bash\n",
    "heat stack-create my_stack -f my_template.yaml \\\n",
    "     -e my_env.yaml\n",
    "```"
   ]
  },
  {
   "cell_type": "markdown",
   "metadata": {
    "slideshow": {
     "slide_type": "subslide"
    }
   },
   "source": [
    "### Provide template parameters\n",
    "```yaml\n",
    "parameters:\n",
    "  KeyName: my_key\n",
    "  Image: my_image\n",
    "```"
   ]
  },
  {
   "cell_type": "markdown",
   "metadata": {
    "slideshow": {
     "slide_type": "subslide"
    }
   },
   "source": [
    "### Override resource types\n",
    "```yaml\n",
    "resource_registry:\n",
    "   \"OS::Metering::Alarm\": \"OS::Ceilometer::Alarm\"\n",
    "```"
   ]
  },
  {
   "cell_type": "markdown",
   "metadata": {
    "slideshow": {
     "slide_type": "subslide"
    }
   },
   "source": [
    "### Define custom templates for resources\n",
    "```yaml\n",
    "resource_registry:\n",
    "  \"AWS::RDS::DBInstance\": \"file:///etc/heat/templates/AWS_RDS_DBInstance.yaml\"\n",
    "```"
   ]
  },
  {
   "cell_type": "markdown",
   "metadata": {
    "slideshow": {
     "slide_type": "subslide"
    }
   },
   "source": [
    "### Override only single resource\n",
    "```yaml\n",
    "resource_registry:\n",
    "  resources:\n",
    "    my_old_db:\n",
    "      \"AWS::RDS::DBInstance\": \"http://<some_server>/AWS_RDS_DBInstance.yaml\"\n",
    "```"
   ]
  },
  {
   "cell_type": "markdown",
   "metadata": {
    "slideshow": {
     "slide_type": "subslide"
    }
   },
   "source": [
    "### Debug the template! (*new in Kilo*)\n",
    "\n",
    "```yaml\n",
    "resource_registry:\n",
    "  resources:\n",
    "    buggy_*_server:\n",
    "      hooks: [ pre-create, pre-update ]\n",
    "```\n",
    "\n",
    "* stack-create will be paused before creating this resource\n",
    "* to continue use\n",
    "```bash\n",
    "heat resource-signal <stack-name> buggy_app_server \\\n",
    "     -D \"{unset_hook: pre-create}\"\n",
    "```"
   ]
  },
  {
   "cell_type": "markdown",
   "metadata": {
    "slideshow": {
     "slide_type": "slide"
    }
   },
   "source": [
    "## Moar template tricks"
   ]
  },
  {
   "cell_type": "markdown",
   "metadata": {
    "slideshow": {
     "slide_type": "subslide"
    }
   },
   "source": [
    "### Nested stacks\n",
    "\n",
    "* also called `template resources`\n",
    "* parameters of nested template are properties of the resource\n",
    "* outputs of nested template are attributes of the resource"
   ]
  },
  {
   "cell_type": "markdown",
   "metadata": {
    "slideshow": {
     "slide_type": "subslide"
    }
   },
   "source": [
    "#### my_nova.yaml\n",
    "```yaml\n",
    "heat_template_version: 2014-10-16\n",
    "\n",
    "parameters:\n",
    "  key_name:\n",
    "    type: string\n",
    "    description: Name of a KeyPair\n",
    "\n",
    "resources:\n",
    "  server:\n",
    "    type: OS::Nova::Server\n",
    "    properties:\n",
    "      key_name: {get_param: key_name}\n",
    "      flavor: m1.small\n",
    "      image: ubuntu-trusty-x86_64\n",
    "```"
   ]
  },
  {
   "cell_type": "markdown",
   "metadata": {
    "slideshow": {
     "slide_type": "subslide"
    }
   },
   "source": [
    "### Use file name as resource type\n",
    "\n",
    "```yaml\n",
    "resources:\n",
    "  my_server:\n",
    "    type: my_nova.yaml\n",
    "    properties:\n",
    "      key_name: my_key\n",
    "```"
   ]
  },
  {
   "cell_type": "markdown",
   "metadata": {
    "slideshow": {
     "slide_type": "subslide"
    }
   },
   "source": [
    "### Define new resource types\n",
    "```yaml\n",
    "resources:\n",
    "  my_server:\n",
    "    type: My::Custom::Server\n",
    "    properties:\n",
    "      key_name: my_key\n",
    "```\n",
    "##### environment\n",
    "```yaml\n",
    "resource_registry:\n",
    "  \"My::Custom::Server\": my_nova.yaml\n",
    "```"
   ]
  },
  {
   "cell_type": "markdown",
   "metadata": {
    "slideshow": {
     "slide_type": "subslide"
    }
   },
   "source": [
    "### Get attributes from nested stacks\n",
    "```yaml\n",
    "resources:\n",
    "  my_server:\n",
    "    type: my_nova.yaml\n",
    "\n",
    "outputs:\n",
    "  test_out:\n",
    "    value: {get_attr: my_server, resource.server, first_address}\n",
    "```"
   ]
  },
  {
   "cell_type": "markdown",
   "metadata": {
    "slideshow": {
     "slide_type": "subslide"
    }
   },
   "source": [
    "### Set ID of the nested resource\n",
    "```yaml\n",
    "outputs:\n",
    "  OS::Stack_id:\n",
    "    value: { get_resource: server }\n",
    "```"
   ]
  },
  {
   "cell_type": "markdown",
   "metadata": {
    "slideshow": {
     "slide_type": "slide"
    }
   },
   "source": [
    "## DRY - Grouping resources"
   ]
  },
  {
   "cell_type": "markdown",
   "metadata": {
    "slideshow": {
     "slide_type": "subslide"
    }
   },
   "source": [
    "##### you need to create a bunch of similar resources\n",
    "  * e.g. servers"
   ]
  },
  {
   "cell_type": "markdown",
   "metadata": {
    "slideshow": {
     "slide_type": "fragment"
    }
   },
   "source": [
    "## DO NOT COPY-PASTE !\n",
    "\n",
    "*Use* **OS::Heat::ResourceGroup**"
   ]
  },
  {
   "cell_type": "markdown",
   "metadata": {
    "slideshow": {
     "slide_type": "subslide"
    }
   },
   "source": [
    "```yaml\n",
    "resources:\n",
    "  my_group:\n",
    "    type: OS::Heat::ResourceGroup\n",
    "    count: 3\n",
    "    type: OS::Nova::Server\n",
    "    properties:\n",
    "      name: my_server_%index%\n",
    "      image: Fedora\n",
    "      flavor: m1.small\n",
    "```"
   ]
  },
  {
   "cell_type": "markdown",
   "metadata": {
    "slideshow": {
     "slide_type": "subslide"
    }
   },
   "source": [
    "##### and what if you need to create and manage bundles of resources?\n",
    "  * e.g. server + volume + volume attachment"
   ]
  },
  {
   "cell_type": "markdown",
   "metadata": {
    "slideshow": {
     "slide_type": "fragment"
    }
   },
   "source": [
    "## DO NOT COPY-PASTE !\n",
    "\n",
    "*Use* **OS::Heat::ResourceGroup** *AND* **environments**"
   ]
  },
  {
   "cell_type": "markdown",
   "metadata": {
    "slideshow": {
     "slide_type": "subslide"
    }
   },
   "source": [
    "##### parent.yaml\n",
    "```yaml\n",
    "resources:\n",
    "  group:\n",
    "    type: OS::Heat::ResourceGroup\n",
    "    count: { get_param: count }\n",
    "    resource_def:\n",
    "      type: My::Awesome::Server\n",
    "      properties:\n",
    "        volsize: 1\n",
    "        image: TestVM\n",
    "        flavor: m1.small\n",
    "```"
   ]
  },
  {
   "cell_type": "markdown",
   "metadata": {
    "slideshow": {
     "slide_type": "subslide"
    }
   },
   "source": [
    "##### nested.yaml\n",
    "```yaml\n",
    "parameters:\n",
    "  image:\n",
    "    type: string\n",
    "  volsize:\n",
    "    type: number\n",
    "  flavor:\n",
    "    type: string\n",
    "resources:\n",
    "  server:\n",
    "    type: OS::Nova::Server\n",
    "  ...\n",
    "  volume:\n",
    "    type: OS::Cinder::Volume\n",
    "  ...\n",
    "  server_volume:\n",
    "    type: OS::Cinder::VolumeAttachment\n",
    "  ...\n",
    "```"
   ]
  },
  {
   "cell_type": "markdown",
   "metadata": {
    "slideshow": {
     "slide_type": "subslide"
    }
   },
   "source": [
    "##### registry.yaml\n",
    "```yaml\n",
    "resource_registry:\n",
    "  \"My::Awesome::Server\": nested.yaml\n",
    "```"
   ]
  },
  {
   "cell_type": "markdown",
   "metadata": {
    "slideshow": {
     "slide_type": "subslide"
    }
   },
   "source": [
    "```bash\n",
    "heat stack-create nested -f parent.yaml \\\n",
    "     -e registry.yaml\n",
    "```"
   ]
  },
  {
   "cell_type": "markdown",
   "metadata": {
    "slideshow": {
     "slide_type": "subslide"
    }
   },
   "source": [
    "#### somewhat more elaborate example:\n",
    "\n",
    "* Neutron Network + Subnet + Router + Security Group\n",
    "* Config of the webapp server\n",
    "* A group of:\n",
    "  * server with webapp\n",
    "  * volume\n",
    "  * volume attachment to the server\n",
    "  * floating IP for the server\n",
    "  \n",
    "https://github.com/pshchelo/stackdev/tree/master/templates/sanity"
   ]
  },
  {
   "cell_type": "markdown",
   "metadata": {
    "slideshow": {
     "slide_type": "slide"
    }
   },
   "source": [
    "## Deploying software with Heat"
   ]
  },
  {
   "cell_type": "markdown",
   "metadata": {
    "slideshow": {
     "slide_type": "subslide"
    }
   },
   "source": [
    "### Problem\n",
    "* Nova declares the VM to be `ACTIVE` as soon as OS starts to boot"
   ]
  },
  {
   "cell_type": "markdown",
   "metadata": {
    "slideshow": {
     "slide_type": "fragment"
    }
   },
   "source": [
    "But\n",
    "\n",
    "* your template pieces might depend on software actually running on VM\n",
    "\n",
    "or\n",
    "\n",
    "* you watch the heat stack and want to use the app as soon as stack is `CREATE_COMPLETE`"
   ]
  },
  {
   "cell_type": "markdown",
   "metadata": {
    "slideshow": {
     "slide_type": "subslide"
    }
   },
   "source": [
    "### Old good way - WaitCondition"
   ]
  },
  {
   "cell_type": "markdown",
   "metadata": {},
   "source": [
    "* creates a presigned URL\n",
    "  * on Heat API\n",
    "  * or as Swift TempUrl\n",
    "* make a `PUT` to this URL to register a success or failure\n",
    "  * also can include any relevant data"
   ]
  },
  {
   "cell_type": "markdown",
   "metadata": {
    "slideshow": {
     "slide_type": "subslide"
    }
   },
   "source": [
    "```yaml\n",
    "resources:\n",
    "  handle:\n",
    "    type: OS::Heat::WaitConditionHandle\n",
    "  waiter:\n",
    "    type: OS::Heat::WaitCondition\n",
    "    properties:\n",
    "      handle: { get_resource: handle }\n",
    "      count: 1\n",
    "      timeout: 600\n",
    "```"
   ]
  },
  {
   "cell_type": "markdown",
   "metadata": {
    "slideshow": {
     "slide_type": "subslide"
    }
   },
   "source": [
    "##### ..continued\n",
    "```yaml\n",
    "  db_server:\n",
    "    type: OS::Nova::Server\n",
    "    properties:\n",
    "      ...\n",
    "      user_data_format: RAW\n",
    "      user_data:\n",
    "        str_replace:\n",
    "          template: |\n",
    "            #!/bin/bash -v\n",
    "            <DO YOUR STUFF HERE>\n",
    "            wc_notify -d '{\"status\": \"SUCCESS\", \"reason\": \"<SOMEREASON>\", \"data\": \"SOMEDATA\"}'\n",
    "          params:\n",
    "            wc_notify: { get_attr: [ handle, curl_cli ] }\n",
    "  app_server:\n",
    "    type: OS::Nova::Server\n",
    "    depends_on: waiter\n",
    "    ...\n",
    "```"
   ]
  },
  {
   "cell_type": "markdown",
   "metadata": {
    "slideshow": {
     "slide_type": "notes"
    }
   },
   "source": [
    "You can later retrieve the data passed to WaitCondition as `data` atribute of that resource.\n",
    "\n",
    "All the fields in request are optional, `status` defaults to `SUCCESS`"
   ]
  },
  {
   "cell_type": "markdown",
   "metadata": {
    "slideshow": {
     "slide_type": "subslide"
    }
   },
   "source": [
    "### New shiny way - SoftwareConfig / SoftwareDeployment"
   ]
  },
  {
   "cell_type": "markdown",
   "metadata": {
    "slideshow": {
     "slide_type": "slide"
    }
   },
   "source": [
    "## Where to go from here?"
   ]
  },
  {
   "cell_type": "markdown",
   "metadata": {
    "slideshow": {
     "slide_type": "subslide"
    }
   },
   "source": [
    "* https://github.com/openstack/heat-templates\n",
    "* https://github.com/openstack/heat/tree/master/heat_integrationtests\n",
    "* http://docs.openstack.org\n",
    "  * http://docs.openstack.org/developer/heat\n",
    "* openstack / openstack-dev ML - [Heat] tag\n",
    "* \\#heat @freenode.net\n",
    "  * `pas-ha` *or* `pshchelo` is myself :)\n",
    "* \\#heat @miracloud.slack.com\n",
    "* https://github.com/pshchelo/stackdev"
   ]
  }
 ],
 "metadata": {
  "celltoolbar": "Slideshow",
  "kernelspec": {
   "display_name": "Python 2",
   "language": "python",
   "name": "python2"
  },
  "language_info": {
   "codemirror_mode": {
    "name": "ipython",
    "version": 2
   },
   "file_extension": ".py",
   "mimetype": "text/x-python",
   "name": "python",
   "nbconvert_exporter": "python",
   "pygments_lexer": "ipython2",
   "version": "2.7.6"
  }
 },
 "nbformat": 4,
 "nbformat_minor": 0
}
