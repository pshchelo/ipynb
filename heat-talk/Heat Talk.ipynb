{
 "cells": [
  {
   "cell_type": "markdown",
   "metadata": {
    "slideshow": {
     "slide_type": "slide"
    }
   },
   "source": [
    "# Heat - Basics and Advanced Features"
   ]
  },
  {
   "cell_type": "code",
   "execution_count": 1,
   "metadata": {
    "collapsed": true,
    "slideshow": {
     "slide_type": "skip"
    }
   },
   "outputs": [],
   "source": [
    "from IPython.display import HTML, IFrame, Image"
   ]
  },
  {
   "cell_type": "markdown",
   "metadata": {
    "slideshow": {
     "slide_type": "slide"
    }
   },
   "source": [
    "## Heat Introduction"
   ]
  },
  {
   "cell_type": "markdown",
   "metadata": {
    "slideshow": {
     "slide_type": "subslide"
    }
   },
   "source": [
    "### Heat is an Orchestration service of OpenStack"
   ]
  },
  {
   "cell_type": "markdown",
   "metadata": {
    "slideshow": {
     "slide_type": "fragment"
    }
   },
   "source": [
    "* Prepare infrastructure for your cloud application\n",
    "  * Some support of actual applicaiton deployment\n",
    "* Automate OpenStack API calls\n",
    "* Human- and machine-readable representation\n",
    "* Treat your infrastructure as code"
   ]
  },
  {
   "cell_type": "markdown",
   "metadata": {
    "slideshow": {
     "slide_type": "subslide"
    }
   },
   "source": [
    "**Whatever you can make with a series of OpenStack API calls - it can be done with Heat!**\n",
    "\n",
    "* API calls for CRUD operations on OpenStack services entities\n",
    "* calls are made in correct order when needed"
   ]
  },
  {
   "cell_type": "markdown",
   "metadata": {
    "slideshow": {
     "slide_type": "slide"
    }
   },
   "source": [
    "## Heat architecture"
   ]
  },
  {
   "cell_type": "code",
   "execution_count": 2,
   "metadata": {
    "collapsed": true,
    "slideshow": {
     "slide_type": "skip"
    }
   },
   "outputs": [],
   "source": [
    "heat_arch={'url': \"https://docs.google.com/drawings/d/1e_BOmSe9L89azynhZn3G93it0sxUVqewKKyxewforDg/pub?w=640&h=480\"}"
   ]
  },
  {
   "cell_type": "code",
   "execution_count": 3,
   "metadata": {
    "collapsed": false,
    "slideshow": {
     "slide_type": "subslide"
    }
   },
   "outputs": [
    {
     "data": {
      "text/html": [
       "<img src=\"https://docs.google.com/drawings/d/1e_BOmSe9L89azynhZn3G93it0sxUVqewKKyxewforDg/pub?w=640&h=480\"/>"
      ],
      "text/plain": [
       "<IPython.core.display.Image object>"
      ]
     },
     "execution_count": 3,
     "metadata": {},
     "output_type": "execute_result"
    }
   ],
   "source": [
    "Image(**heat_arch)"
   ]
  },
  {
   "cell_type": "markdown",
   "metadata": {
    "slideshow": {
     "slide_type": "subslide"
    }
   },
   "source": [
    "### API Services\n",
    "\n",
    "+ **heat-api** - REST API endpoint for OpenStack API\n",
    "+ **heat-api-cfn** - REST API compatible with AWS CFN API\n",
    "+ **heat-api-cloudwatch** - specialized API where ``heat-cfntools`` posts in-instance metrics"
   ]
  },
  {
   "cell_type": "markdown",
   "metadata": {
    "slideshow": {
     "slide_type": "subslide"
    }
   },
   "source": [
    "\n",
    "### heat-engine - does most of the work\n",
    "\n",
    "+ parses template and builds a graph of dependencies\n",
    "+ generates internal resources representation\n",
    "+ executes the graph calling OpenStack clients' APIs\n",
    "+ horizontally scalable\n",
    "  - multiple workers per engine process\n",
    "  - multiple engines (on different hosts)"
   ]
  },
  {
   "cell_type": "markdown",
   "metadata": {
    "slideshow": {
     "slide_type": "slide"
    }
   },
   "source": [
    "## Template formats"
   ]
  },
  {
   "cell_type": "markdown",
   "metadata": {
    "slideshow": {
     "slide_type": "subslide"
    }
   },
   "source": [
    "### 3 supported formats"
   ]
  },
  {
   "cell_type": "markdown",
   "metadata": {
    "slideshow": {
     "slide_type": "fragment"
    }
   },
   "source": [
    "* AWS-compatible\n",
    "* AWS yaml representation\n",
    "* Native Heat Orchestration Template (HOT)"
   ]
  },
  {
   "cell_type": "markdown",
   "metadata": {
    "slideshow": {
     "slide_type": "subslide"
    }
   },
   "source": [
    "### AWSTemplateFormatVersion"
   ]
  },
  {
   "cell_type": "markdown",
   "metadata": {
    "slideshow": {
     "slide_type": "fragment"
    }
   },
   "source": [
    "* Historically the first supported format\n",
    "* Written in JSON\n",
    "* Format is compatible with AWS CloudFormation\n",
    "  * Your (simple) templates will run both on AWS CFN and OpenStack"
   ]
  },
  {
   "cell_type": "markdown",
   "metadata": {
    "slideshow": {
     "slide_type": "subslide"
    }
   },
   "source": [
    "```json\n",
    "{\n",
    "  \"AWSTemplateFormatVersion\": \"2010-09-09\",\n",
    "  \"Description\": \"Example AWS CFN template\",\n",
    "  \"Parameters\" : {\n",
    "    \"KeyName\" : {\n",
    "      \"Type\" : \"String\"\n",
    "    }\n",
    "  },\n",
    "  \"Resources\": {\n",
    "    \"CfnLBUser\" : {\n",
    "      \"Type\" : \"AWS::IAM::User\"\n",
    "    },\n",
    "    \"CfnLBAccessKey\" : {\n",
    "      \"Type\" : \"AWS::IAM::AccessKey\"\n",
    "    }\n",
    "  }\n",
    "}\n",
    "```"
   ]
  },
  {
   "cell_type": "markdown",
   "metadata": {
    "slideshow": {
     "slide_type": "subslide"
    }
   },
   "source": [
    "### HeatTemplateFormatVersion"
   ]
  },
  {
   "cell_type": "markdown",
   "metadata": {
    "slideshow": {
     "slide_type": "fragment"
    }
   },
   "source": [
    "* YAML version of AWS CFN templates\n",
    "* created due to popular demand\n",
    "\n",
    "```python\n",
    "yaml.dumps(json.loads(template))\n",
    "```"
   ]
  },
  {
   "cell_type": "markdown",
   "metadata": {
    "slideshow": {
     "slide_type": "subslide"
    }
   },
   "source": [
    "```yaml\n",
    "HeatTemplateFormatVersion: 2012-12-12\n",
    "Description: >\n",
    "  Example Heat template (AWS-style)\n",
    "Parameters:\n",
    "  KeyName:\n",
    "    Type: String\n",
    "Resources:\n",
    "  CfnLBUser:\n",
    "    Type: AWS::IAM::User\n",
    "  CfnLBAccessKey:\n",
    "    Type: AWS::IAM::AccessKey\n",
    "```"
   ]
  },
  {
   "cell_type": "markdown",
   "metadata": {
    "slideshow": {
     "slide_type": "subslide"
    }
   },
   "source": [
    "### Native HOT format"
   ]
  },
  {
   "cell_type": "markdown",
   "metadata": {
    "slideshow": {
     "slide_type": "fragment"
    }
   },
   "source": [
    "* written in YAML\n",
    "* most of development and innovation happens here\n",
    "  * not necessary to keep AWS compatibility"
   ]
  },
  {
   "cell_type": "markdown",
   "metadata": {
    "slideshow": {
     "slide_type": "subslide"
    }
   },
   "source": [
    "```yaml\n",
    "heat_template_format: 2010-09-09\n",
    "description: Example HOT template\n",
    "parameters:\n",
    "  key_name:\n",
    "    type: string\n",
    "resources:\n",
    "  password:\n",
    "    type: OS::Heat::RandomString\n",
    "```"
   ]
  },
  {
   "cell_type": "markdown",
   "metadata": {
    "collapsed": true,
    "slideshow": {
     "slide_type": "slide"
    }
   },
   "source": [
    "## Template anatomy"
   ]
  },
  {
   "cell_type": "markdown",
   "metadata": {
    "slideshow": {
     "slide_type": "subslide"
    }
   },
   "source": [
    "### Six top-level sections\n",
    "* Template version specifier\n",
    "* Resources"
   ]
  },
  {
   "cell_type": "markdown",
   "metadata": {
    "slideshow": {
     "slide_type": "fragment"
    }
   },
   "source": [
    "* Parameters (optional)\n",
    "* Outputs (optional)\n",
    "* Description (optional)\n",
    "* Parameter groups (optional, for UI tools)"
   ]
  },
  {
   "cell_type": "markdown",
   "metadata": {
    "slideshow": {
     "slide_type": "subslide"
    }
   },
   "source": [
    "```yaml\n",
    "heat_template_format: 2015-04-30\n",
    "```"
   ]
  },
  {
   "cell_type": "markdown",
   "metadata": {
    "slideshow": {
     "slide_type": "subslide"
    }
   },
   "source": [
    "```yaml\n",
    "parameters:\n",
    "  image:\n",
    "    type: string\n",
    "    default: TestVM\n",
    "    description: A secret image to boot\n",
    "    label: Image\n",
    "    hidden: True\n",
    "    constraints:\n",
    "    - custom_constraint: glance.image\n",
    "      description: Must be a valid Glance image\n",
    " ```"
   ]
  },
  {
   "cell_type": "markdown",
   "metadata": {
    "slideshow": {
     "slide_type": "subslide"
    }
   },
   "source": [
    "```yaml\n",
    "resources:\n",
    "  my_server:\n",
    "    type: OS::Nova::Server\n",
    "    properties:\n",
    "      image: { get_param: image }\n",
    "      flavor: m1.small\n",
    "```"
   ]
  },
  {
   "cell_type": "markdown",
   "metadata": {
    "slideshow": {
     "slide_type": "subslide"
    }
   },
   "source": [
    "```yaml\n",
    "outputs:\n",
    "  server_ip:\n",
    "    description: Private IP of the server\n",
    "    value: { get_attr: [ my_server, networks, private, 0 ] }\n",
    "```"
   ]
  },
  {
   "cell_type": "markdown",
   "metadata": {
    "slideshow": {
     "slide_type": "subslide"
    }
   },
   "source": [
    "### Intrinsic functions\n",
    "\n",
    "* `get_resource` - insert the UUID of the referenced resource\n",
    "* `get_param` - insert the value of the specified parameter\n",
    "* `get_attr` - insert an attribute of specified resource\n",
    "  * can dig into complex attributes by key or index\n",
    "* `get_file` - fetch the file from URI and insert verbatim\n",
    "* `str_replace` - replaces substrings in a string with provided values\n",
    "* `repeat` (*new in Kilo*) - repeat template snippets\n",
    "* ... and some more\n"
   ]
  },
  {
   "cell_type": "markdown",
   "metadata": {
    "slideshow": {
     "slide_type": "slide"
    }
   },
   "source": [
    "## Resources"
   ]
  },
  {
   "cell_type": "markdown",
   "metadata": {
    "slideshow": {
     "slide_type": "fragment"
    }
   },
   "source": [
    "* describe some entity in an OpenStack service\n",
    "  * usually that entity has a UUID in some DB of some OS service\n",
    "  * usually Heat's resource UUID is equal to the UUID of the thing it describes\n",
    "* three types of resources supported\n",
    "  * **AWS compatible ones** - `AWS::...::...`, API-compatible with AWS CFN\n",
    "  * **Native OpenStack** - `OS::...:...`, no limits on API, most innovation here\n",
    "  * **Custom resources** - can be written as `stevedore` plugins"
   ]
  },
  {
   "cell_type": "markdown",
   "metadata": {
    "slideshow": {
     "slide_type": "subslide"
    }
   },
   "source": [
    "### Resource description\n",
    "* `type` - one of the available resource types\n",
    "* `depends_on` - for explicit dependencies\n",
    "* `metadata` - any key-value pairs\n",
    "* `properties` - arguments to the API call, schema is resource specific\n",
    "* `update_policy` - how to update resource, resource-specific\n",
    "* `delete_policy` - `[ Delete | Retain | Snapshot ]`, resource-specific "
   ]
  },
  {
   "cell_type": "markdown",
   "metadata": {
    "slideshow": {
     "slide_type": "subslide"
    }
   },
   "source": [
    "### Built-in service help\n",
    "\n",
    "* `heat resource-type-list`\n",
    "  * shows the list of all currently registered resource types\n",
    "  * *caveat* - not all might be actually available to the user\n",
    "* `heat resource-type-show <type::of::resource>`\n",
    "  * shows a required structure of a resource as JSON template\n",
    "  * includes description and limitations of resource's properties"
   ]
  },
  {
   "cell_type": "markdown",
   "metadata": {
    "slideshow": {
     "slide_type": "slide"
    }
   },
   "source": [
    "## Environments"
   ]
  },
  {
   "cell_type": "markdown",
   "metadata": {
    "slideshow": {
     "slide_type": "slide"
    }
   },
   "source": [
    "## DRY - Grouping resources"
   ]
  },
  {
   "cell_type": "markdown",
   "metadata": {
    "slideshow": {
     "slide_type": "slide"
    }
   },
   "source": [
    "## Moar template tricks"
   ]
  },
  {
   "cell_type": "markdown",
   "metadata": {
    "slideshow": {
     "slide_type": "slide"
    }
   },
   "source": [
    "## Deploying software with Heat"
   ]
  }
 ],
 "metadata": {
  "celltoolbar": "Slideshow",
  "kernelspec": {
   "display_name": "Python 2",
   "language": "python",
   "name": "python2"
  },
  "language_info": {
   "codemirror_mode": {
    "name": "ipython",
    "version": 2
   },
   "file_extension": ".py",
   "mimetype": "text/x-python",
   "name": "python",
   "nbconvert_exporter": "python",
   "pygments_lexer": "ipython2",
   "version": "2.7.6"
  }
 },
 "nbformat": 4,
 "nbformat_minor": 0
}
