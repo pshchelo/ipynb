{
 "metadata": {
  "celltoolbar": "Slideshow",
  "name": "",
  "signature": "sha256:eb80af6f62c42bb94634db5a5863081d7f773958cb3e7b719fd13365a99f3ded"
 },
 "nbformat": 3,
 "nbformat_minor": 0,
 "worksheets": [
  {
   "cells": [
    {
     "cell_type": "heading",
     "level": 1,
     "metadata": {
      "slideshow": {
       "slide_type": "slide"
      }
     },
     "source": [
      "Heat and Ceilometer demo"
     ]
    },
    {
     "cell_type": "heading",
     "level": 2,
     "metadata": {
      "slideshow": {
       "slide_type": "slide"
      }
     },
     "source": [
      "Prerequisits"
     ]
    },
    {
     "cell_type": "markdown",
     "metadata": {
      "slideshow": {
       "slide_type": "subslide"
      }
     },
     "source": [
      "Download all necessary files from `jd-files.mirantis.com`:\n",
      "\n",
      "* AwsLoadBalancer.vmdk\n",
      "* TomcatServer.vmdk\n",
      "* demo.yaml"
     ]
    },
    {
     "cell_type": "markdown",
     "metadata": {
      "slideshow": {
       "slide_type": "subslide"
      }
     },
     "source": [
      "* Upload demo images to glance\n",
      "  * `glance image-create --is-public --progress --disk-format vmdk --container-format bare --file TomcatServer.vmdk --name TomcatServer`\n",
      "  * `glance image-create --is-public --progress --disk-format vmdk --container-format bare --file AwsLoadBalancer.vmdk --name AwsLoadBalancer`"
     ]
    },
    {
     "cell_type": "markdown",
     "metadata": {
      "slideshow": {
       "slide_type": "subslide"
      }
     },
     "source": [
      "* create Nova keypair, private key is saved as `mykey.pem`\n",
      "  * `nova keypair-create mykey`"
     ]
    },
    {
     "cell_type": "markdown",
     "metadata": {
      "slideshow": {
       "slide_type": "subslide"
      }
     },
     "source": [
      "* fix the default security group\n",
      "  * allow following ingress ports\n",
      "    * `80` (incoming port for loadbalanced app)\n",
      "    * `8080` (incoming port for webapp running on instances)\n",
      "    * `22` (just for testing, to be able to stress CPU remotely)"
     ]
    }
   ],
   "metadata": {}
  }
 ]
}