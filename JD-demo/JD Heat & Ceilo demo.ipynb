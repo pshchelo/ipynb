{
 "metadata": {
  "celltoolbar": "Slideshow",
  "name": "",
  "signature": "sha256:5d9ddced3c0563a1ac36650d36fcb9eafcb084f2ad4cd461c9dfba14056eb29d"
 },
 "nbformat": 3,
 "nbformat_minor": 0,
 "worksheets": [
  {
   "cells": [
    {
     "cell_type": "heading",
     "level": 1,
     "metadata": {
      "slideshow": {
       "slide_type": "slide"
      }
     },
     "source": [
      "Heat and Ceilometer demo"
     ]
    },
    {
     "cell_type": "heading",
     "level": 2,
     "metadata": {
      "slideshow": {
       "slide_type": "slide"
      }
     },
     "source": [
      "Prerequisits"
     ]
    },
    {
     "cell_type": "markdown",
     "metadata": {
      "slideshow": {
       "slide_type": "subslide"
      }
     },
     "source": [
      "Download all necessary files from `jd-files.mirantis.com`:\n",
      "\n",
      "* AwsLoadBalancer.vmdk\n",
      "* TomcatServer.vmdk\n",
      "* demo.yaml"
     ]
    },
    {
     "cell_type": "markdown",
     "metadata": {
      "slideshow": {
       "slide_type": "subslide"
      }
     },
     "source": [
      "* Upload demo images to glance\n",
      "    \n",
      "```bash    \n",
      "glance image-create \\\n",
      "    --is-public \\\n",
      "    --progress \\\n",
      "    --disk-format vmdk \\\n",
      "    --container-format bare \\\n",
      "    --property hypervisor_type=vmware \\\n",
      "    --property vmware_adaptertype=lsilogic \\\n",
      "    --property vmware_disktype=sparse \\\n",
      "    --file <path/to/image/file.vmdk> \\\n",
      "    --name <Image name>\n",
      "```\n",
      "\n",
      "* Use the same Image name as in the file name"
     ]
    },
    {
     "cell_type": "markdown",
     "metadata": {
      "slideshow": {
       "slide_type": "subslide"
      }
     },
     "source": [
      "* create Nova keypair, private key is saved as `mykey.pem`\n",
      "  * `nova keypair-create mykey`"
     ]
    },
    {
     "cell_type": "markdown",
     "metadata": {
      "slideshow": {
       "slide_type": "subslide"
      }
     },
     "source": [
      "* fix the default security group\n",
      "  * allow following ingress ports\n",
      "    * `80` (incoming port for loadbalanced app)\n",
      "    * `8080` (incoming port for webapp running on instances)\n",
      "    * `22` (just for testing, to be able to stress CPU remotely)"
     ]
    },
    {
     "cell_type": "heading",
     "level": 2,
     "metadata": {
      "slideshow": {
       "slide_type": "slide"
      }
     },
     "source": [
      "Heat Demo - Load Balancing"
     ]
    },
    {
     "cell_type": "markdown",
     "metadata": {
      "slideshow": {
       "slide_type": "subslide"
      }
     },
     "source": [
      "* create the stack from the template\n",
      "\n",
      "```bash\n",
      "heat stack-create Demo -f demo.yaml -P KeyName=mykey\n",
      "```"
     ]
    },
    {
     "cell_type": "markdown",
     "metadata": {
      "slideshow": {
       "slide_type": "fragment"
      }
     },
     "source": [
      "* waight for stack creation to finish, check with\n",
      "\n",
      "```bash\n",
      "heat stack-list\n",
      "```"
     ]
    },
    {
     "cell_type": "markdown",
     "metadata": {
      "slideshow": {
       "slide_type": "fragment"
      }
     },
     "source": [
      "* assign a floating IP to the LoadBalancer instance (Heat can not do it by itself)"
     ]
    },
    {
     "cell_type": "markdown",
     "metadata": {
      "slideshow": {
       "slide_type": "subslide"
      }
     },
     "source": [
      "* access the demo webapp (CLI or in your browser)\n",
      "\n",
      "```bash\n",
      "curl http://<floating_ip>/hello/HelloWorld\n",
      "```"
     ]
    },
    {
     "cell_type": "markdown",
     "metadata": {
      "slideshow": {
       "slide_type": "fragment"
      }
     },
     "source": [
      "* a rather long unique name of the host is part of the page\n",
      "* keep accessing the webapp"
     ]
    },
    {
     "cell_type": "markdown",
     "metadata": {
      "slideshow": {
       "slide_type": "subslide"
      }
     },
     "source": [
      "* the host address is interchanging\n",
      "\n",
      "The Load Balancer is routing the requests to the members of the Autoscaling group\n"
     ]
    },
    {
     "cell_type": "heading",
     "level": 2,
     "metadata": {
      "slideshow": {
       "slide_type": "slide"
      }
     },
     "source": [
      "Heat Demo - Autoscaling"
     ]
    },
    {
     "cell_type": "markdown",
     "metadata": {
      "slideshow": {
       "slide_type": "subslide"
      }
     },
     "source": [
      "* assign another floating ip to the webapp host (just for demo purpose)"
     ]
    },
    {
     "cell_type": "markdown",
     "metadata": {
      "slideshow": {
       "slide_type": "subslide"
      }
     },
     "source": [
      "* stress the CPU of the webapp host\n",
      "\n",
      "```bash\n",
      "ssh ec2-user@<webapp-host-floating-ip> -i mykey.pem stress -c 2 \n",
      "```"
     ]
    },
    {
     "cell_type": "markdown",
     "metadata": {
      "slideshow": {
       "slide_type": "fragment"
      }
     },
     "source": [
      "* within a minute or two a third instance appears, check it with\n",
      "\n",
      "```bash\n",
      "nova list\n",
      "```"
     ]
    },
    {
     "cell_type": "markdown",
     "metadata": {
      "slideshow": {
       "slide_type": "subslide"
      }
     },
     "source": [
      "After third instance initializes completely, it's host name appears when repeatedly accessing the demo app.\n",
      "\n",
      "The demo app was **automatically scaled up** due to high CPU usage on one of the webapp servers!"
     ]
    },
    {
     "cell_type": "markdown",
     "metadata": {
      "slideshow": {
       "slide_type": "subslide"
      }
     },
     "source": [
      "* release the load from the 'stressed' instance\n",
      "\n",
      "```bash\n",
      "ssh ec2-user@<webapp-host-floating-ip> -i mykey.pem pkill stress \n",
      "```"
     ]
    },
    {
     "cell_type": "markdown",
     "metadata": {
      "slideshow": {
       "slide_type": "fragment"
      }
     },
     "source": [
      "* watch one of the two initial instances disappear\n",
      "  * *Heat removes instances in the same order they were created*"
     ]
    }
   ],
   "metadata": {}
  }
 ]
}