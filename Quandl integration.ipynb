{
 "metadata": {
  "name": ""
 },
 "nbformat": 3,
 "nbformat_minor": 0,
 "worksheets": [
  {
   "cells": [
    {
     "cell_type": "code",
     "collapsed": false,
     "input": [
      "%pylab inline"
     ],
     "language": "python",
     "metadata": {},
     "outputs": []
    },
    {
     "cell_type": "code",
     "collapsed": false,
     "input": [
      "import Quandl as q"
     ],
     "language": "python",
     "metadata": {},
     "outputs": []
    },
    {
     "cell_type": "markdown",
     "metadata": {},
     "source": [
      "Get your API token at http://www.quandl.com/users/edit to be able to make up to 500 queries per day (50 for anonymous users).\n",
      "\n",
      "It will be saved next to your notebook as `authtoken.p` for later automatic reuse."
     ]
    },
    {
     "cell_type": "code",
     "collapsed": false,
     "input": [
      "#ukrgdp = q.get('WORLDBANK/UKR_NY_GDP_MKTP_CN', authtoken=auth)\n",
      "ukrgdp = q.get('WORLDBANK/UKR_NY_GDP_MKTP_CN')"
     ],
     "language": "python",
     "metadata": {},
     "outputs": []
    },
    {
     "cell_type": "code",
     "collapsed": false,
     "input": [
      "ukrgdp.plot()"
     ],
     "language": "python",
     "metadata": {},
     "outputs": []
    }
   ],
   "metadata": {}
  }
 ]
}