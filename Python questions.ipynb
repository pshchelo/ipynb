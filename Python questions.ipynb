{
 "metadata": {
  "name": "",
  "signature": "sha256:f8a58eb1fe0064a15cf9fcfa38be5d754c7c676850be79655083a27fcc74f757"
 },
 "nbformat": 3,
 "nbformat_minor": 0,
 "worksheets": [
  {
   "cells": [
    {
     "cell_type": "markdown",
     "metadata": {},
     "source": [
      "# General Questions"
     ]
    },
    {
     "cell_type": "markdown",
     "metadata": {},
     "source": [
      "* What data structures Python has?\n",
      "* How Python dict works?\n",
      "* Iterators\n",
      "* Generators\n",
      "* Decorators\n",
      "* Properties\n",
      "* Methods, class methods, static methods\n",
      "* *Descriptors*"
     ]
    },
    {
     "cell_type": "markdown",
     "metadata": {},
     "source": [
      "# Task 1 - what would be the output? Explain"
     ]
    },
    {
     "cell_type": "code",
     "collapsed": false,
     "input": [
      "l = [ [ ] ] * 5\n",
      "l[0].append(10)\n",
      "l[1].append(20)\n",
      "l.append(30)\n",
      "print l"
     ],
     "language": "python",
     "metadata": {},
     "outputs": [
      {
       "output_type": "stream",
       "stream": "stdout",
       "text": [
        "[[10, 20], [10, 20], [10, 20], [10, 20], [10, 20], 30]\n"
       ]
      }
     ],
     "prompt_number": 2
    },
    {
     "cell_type": "markdown",
     "metadata": {},
     "source": [
      "# Task 2 - what would be the output? Explain"
     ]
    },
    {
     "cell_type": "code",
     "collapsed": false,
     "input": [
      "def extendList(val, l=[]):\n",
      "    l.append(val)\n",
      "    return l\n",
      "\n",
      "list1 = extendList(10)\n",
      "list2 = extendList(123,[])\n",
      "list3 = extendList('a')\n",
      "print list1\n",
      "print list2\n",
      "print list3"
     ],
     "language": "python",
     "metadata": {},
     "outputs": [
      {
       "output_type": "stream",
       "stream": "stdout",
       "text": [
        "[10, 'a']\n",
        "[123]\n",
        "[10, 'a']\n"
       ]
      }
     ],
     "prompt_number": 1
    },
    {
     "cell_type": "markdown",
     "metadata": {},
     "source": [
      "# Task 3 - what would be the output? Explain"
     ]
    },
    {
     "cell_type": "code",
     "collapsed": false,
     "input": [
      "class Parent(object):\n",
      "    x = 1\n",
      "\n",
      "class Child1(Parent):\n",
      "    pass\n",
      "\n",
      "class Child2(Parent):\n",
      "    pass\n",
      "Child1.x = 2\n",
      "Parent.x = 3\n",
      "print Parent.x, Child1.x, Child2.x"
     ],
     "language": "python",
     "metadata": {},
     "outputs": []
    }
   ],
   "metadata": {}
  }
 ]
}