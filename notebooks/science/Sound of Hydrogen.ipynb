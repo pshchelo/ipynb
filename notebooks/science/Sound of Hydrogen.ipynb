{
 "cells": [
  {
   "cell_type": "markdown",
   "metadata": {
    "slideshow": {
     "slide_type": "slide"
    }
   },
   "source": [
    "# The Sound of Hydrogen"
   ]
  },
  {
   "cell_type": "markdown",
   "metadata": {
    "slideshow": {
     "slide_type": "fragment"
    }
   },
   "source": [
    "*adapted from [https://github.com/Carreau/posts/blob/master/07-the-sound-of-hydrogen.ipynb](https://github.com/Carreau/posts/blob/master/07-the-sound-of-hydrogen.ipynb)* "
   ]
  },
  {
   "cell_type": "markdown",
   "metadata": {
    "slideshow": {
     "slide_type": "fragment"
    }
   },
   "source": [
    "Inspired by [minutephysics](https://www.youtube.com/watch?v=qyi5SvPlMXc), and the explanation of how to do it in mathematica: [The sound of hydrogen](https://www.youtube.com/watch?v=IhvW8yZdE5A).\n",
    "\n",
    "The goal of this notebook is to show how one can play a sound file in a notebook using Html5 `<audio>` tag to play it directly inside the browser.\n",
    "\n",
    "To do this we use the spectrum of hydrogen that we shift the into the audible range. You can listen to it in the last cell of this notebook.\n",
    "Wait a few seconds if you are on nbviewer, the notebook is not light (someone to update it to use mp3? ogg? other compressed format?)\n",
    "\n",
    "Please be aware that the html5 player is not working on some old browser and IE."
   ]
  },
  {
   "cell_type": "markdown",
   "metadata": {
    "slideshow": {
     "slide_type": "skip"
    }
   },
   "source": [
    "## HTML5 WAV player"
   ]
  },
  {
   "cell_type": "markdown",
   "metadata": {
    "slideshow": {
     "slide_type": "skip"
    }
   },
   "source": [
    "this is a wrapper that takes numpy array and publishes an html `<audio>` tag to listen to it"
   ]
  },
  {
   "cell_type": "code",
   "execution_count": null,
   "metadata": {
    "collapsed": true,
    "slideshow": {
     "slide_type": "skip"
    }
   },
   "outputs": [],
   "source": [
    "from __future__ import division\n",
    "import StringIO\n",
    "import base64\n",
    "import struct\n",
    "from scipy.io import wavfile\n",
    "from IPython.core.display import HTML\n",
    "\n",
    "def wavPlayer(data, rate):\n",
    "    \"\"\" will display html 5 player for compatible browser\n",
    "\n",
    "    The browser needs to know how to play wav through html5.\n",
    "\n",
    "    There is no autoplay to prevent file playing when the browser opens\n",
    "    \n",
    "    Adapted from SciPy.io.\n",
    "    \"\"\"\n",
    "    \n",
    "    buffer = StringIO.StringIO()\n",
    "    buffer.write(b'RIFF')\n",
    "    buffer.write(b'\\x00\\x00\\x00\\x00')\n",
    "    buffer.write(b'WAVE')\n",
    "\n",
    "    buffer.write(b'fmt ')\n",
    "    if data.ndim == 1:\n",
    "        noc = 1\n",
    "    else:\n",
    "        noc = data.shape[1]\n",
    "    bits = data.dtype.itemsize * 8\n",
    "    sbytes = rate*(bits // 8)*noc\n",
    "    ba = noc * (bits // 8)\n",
    "    buffer.write(struct.pack('<ihHIIHH', 16, 1, noc, rate, sbytes, ba, bits))\n",
    "\n",
    "    # data chunk\n",
    "    buffer.write(b'data')\n",
    "    buffer.write(struct.pack('<i', data.nbytes))\n",
    "\n",
    "    if data.dtype.byteorder == '>' or (data.dtype.byteorder == '=' and sys.byteorder == 'big'):\n",
    "        data = data.byteswap()\n",
    "\n",
    "    buffer.write(data.tostring())\n",
    "    #return buffer.getvalue()\n",
    "    \n",
    "    # Determine file size and place it in correct\n",
    "    #  position at start of the file.\n",
    "    size = buffer.tell()\n",
    "    buffer.seek(4)\n",
    "    buffer.write(struct.pack('<i', size-8))\n",
    "    \n",
    "    val = buffer.getvalue()\n",
    "    \n",
    "    #src = \"\"\"\n",
    "    #<head>\n",
    "    #<meta http-equiv=\"Content-Type\" content=\"text/html; charset=utf-8\">\n",
    "    #<title>Simple Test</title>\n",
    "    #</head>\n",
    "    src = \"\"\"\n",
    "    <body>\n",
    "    <audio controls=\"controls\" style=\"width:600px\" >\n",
    "      <source controls src=\"data:audio/wav;base64,{base64}\" type=\"audio/wav\" />\n",
    "      Your browser does not support the audio element.\n",
    "    </audio>\n",
    "    </body>\n",
    "    \"\"\".format(base64=base64.encodestring(val))\n",
    "    display(HTML(src))"
   ]
  },
  {
   "cell_type": "markdown",
   "metadata": {
    "slideshow": {
     "slide_type": "skip"
    }
   },
   "source": [
    "### Test the wav Player"
   ]
  },
  {
   "cell_type": "markdown",
   "metadata": {
    "slideshow": {
     "slide_type": "skip"
    }
   },
   "source": [
    "let's try to first just play an A (440 Hz)."
   ]
  },
  {
   "cell_type": "code",
   "execution_count": null,
   "metadata": {
    "collapsed": false,
    "slideshow": {
     "slide_type": "skip"
    }
   },
   "outputs": [],
   "source": [
    "%pylab inline"
   ]
  },
  {
   "cell_type": "code",
   "execution_count": null,
   "metadata": {
    "collapsed": false,
    "slideshow": {
     "slide_type": "skip"
    }
   },
   "outputs": [],
   "source": [
    "from __future__ import division, print_function\n",
    "\n",
    "from scipy import vectorize\n",
    "import scipy.constants as const"
   ]
  },
  {
   "cell_type": "markdown",
   "metadata": {
    "slideshow": {
     "slide_type": "skip"
    }
   },
   "source": [
    "some constants for our audio file"
   ]
  },
  {
   "cell_type": "code",
   "execution_count": null,
   "metadata": {
    "collapsed": false,
    "slideshow": {
     "slide_type": "skip"
    }
   },
   "outputs": [],
   "source": [
    "rate = 44100  # in Hz\n",
    "duration = 5  # in sec\n",
    "time = np.linspace(0, duration, num=rate*duration)"
   ]
  },
  {
   "cell_type": "markdown",
   "metadata": {
    "slideshow": {
     "slide_type": "skip"
    }
   },
   "source": [
    "this will give us sin with the right amplitude to use with wav files"
   ]
  },
  {
   "cell_type": "code",
   "execution_count": null,
   "metadata": {
    "collapsed": false,
    "slideshow": {
     "slide_type": "skip"
    }
   },
   "outputs": [],
   "source": [
    "normedsin = lambda f,t : 2**12*sin(2*pi*f*t)"
   ]
  },
  {
   "cell_type": "markdown",
   "metadata": {
    "slideshow": {
     "slide_type": "skip"
    }
   },
   "source": [
    "define A as a 440 Hz sin function "
   ]
  },
  {
   "cell_type": "code",
   "execution_count": null,
   "metadata": {
    "collapsed": false,
    "slideshow": {
     "slide_type": "skip"
    }
   },
   "outputs": [],
   "source": [
    "la    = lambda t : normedsin(440,t)"
   ]
  },
  {
   "cell_type": "markdown",
   "metadata": {
    "slideshow": {
     "slide_type": "skip"
    }
   },
   "source": [
    "plot the first 25 ms and show full series in a Html 5 audio player"
   ]
  },
  {
   "cell_type": "code",
   "execution_count": null,
   "metadata": {
    "collapsed": false,
    "slideshow": {
     "slide_type": "skip"
    }
   },
   "outputs": [],
   "source": [
    "plot(time[0:1000], la(time)[0:1000])\n",
    "ampl = la(time).astype(np.int16)\n",
    "\n",
    "wavPlayer(ampl, rate)"
   ]
  },
  {
   "cell_type": "markdown",
   "metadata": {
    "slideshow": {
     "slide_type": "skip"
    }
   },
   "source": [
    "## Hydrogen Spectrum"
   ]
  },
  {
   "cell_type": "markdown",
   "metadata": {
    "slideshow": {
     "slide_type": "slide"
    }
   },
   "source": [
    "The different frequencies emmited by an hydrogen atom are given by the Rydberg formula:\n",
    "\n",
    "$$ {1 \\over \\lambda}  = R \\left({1\\over n_1}-{1\\over n_2}\\right) $$\n",
    "\n",
    "Which gives a similar relation on the emitted frequencies of the Hydrogen :\n",
    "\n",
    "$$ f_{n,m}={c \\over \\lambda}  = {R_h\\over h} \\left({1\\over n}-{1\\over m}\\right) $$\n",
    "\n",
    "for $n=1$ we've got the Lyman series, and for $n=2$ we have the Balmer series"
   ]
  },
  {
   "cell_type": "markdown",
   "metadata": {
    "slideshow": {
     "slide_type": "subslide"
    }
   },
   "source": [
    "fundamental frequency of hydrogen"
   ]
  },
  {
   "cell_type": "code",
   "execution_count": null,
   "metadata": {
    "collapsed": false,
    "slideshow": {
     "slide_type": "fragment"
    }
   },
   "outputs": [],
   "source": [
    "f0 = const.Rydberg*const.c\n",
    "fshift = 440\n",
    "print(\"The highest frequency of hydrogen is \",f0,\"Hz and correspond to n = 1, m = ∞\")\n",
    "print(\"we can shift the spectrum for it to be at 440 Hz (A)\")"
   ]
  },
  {
   "cell_type": "code",
   "execution_count": null,
   "metadata": {
    "collapsed": false,
    "slideshow": {
     "slide_type": "fragment"
    }
   },
   "outputs": [],
   "source": [
    "ryd = lambda n,m : fshift*(1/(n**2) -1/(m**2))\n",
    "flyman = lambda x : ryd(1,x)\n",
    "fbalmer = lambda x : ryd(2,x)"
   ]
  },
  {
   "cell_type": "markdown",
   "metadata": {
    "slideshow": {
     "slide_type": "subslide"
    }
   },
   "source": [
    "define the sum and a vectorized function to work on a by element basis"
   ]
  },
  {
   "cell_type": "code",
   "execution_count": null,
   "metadata": {
    "collapsed": false,
    "slideshow": {
     "slide_type": "fragment"
    }
   },
   "outputs": [],
   "source": [
    "ser = lambda t : sum( [normedsin(flyman(i),t)+normedsin(fbalmer(i+1),t) for i in range(2,8)])\n",
    "serv = vectorize(ser)"
   ]
  },
  {
   "cell_type": "code",
   "execution_count": null,
   "metadata": {
    "collapsed": false,
    "slideshow": {
     "slide_type": "fragment"
    }
   },
   "outputs": [],
   "source": [
    "ss = serv(time)"
   ]
  },
  {
   "cell_type": "code",
   "execution_count": null,
   "metadata": {
    "collapsed": false,
    "slideshow": {
     "slide_type": "subslide"
    }
   },
   "outputs": [],
   "source": [
    "plot(time, ss)\n",
    "ssnorm = 2**15*ss/ ss.max()\n",
    "wavPlayer(ssnorm.astype(np.int16), rate)"
   ]
  }
 ],
 "metadata": {
  "_nbviewer": {},
  "kernelspec": {
   "display_name": "Python 2",
   "language": "python",
   "name": "python2"
  },
  "language_info": {
   "codemirror_mode": {
    "name": "ipython",
    "version": 2
   },
   "file_extension": ".py",
   "mimetype": "text/x-python",
   "name": "python",
   "nbconvert_exporter": "python",
   "pygments_lexer": "ipython2",
   "version": "2.7.9"
  }
 },
 "nbformat": 4,
 "nbformat_minor": 0
}
