{
 "cells": [
  {
   "cell_type": "markdown",
   "metadata": {},
   "source": [
    "# Python\n",
    "\n",
    "## Basics\n",
    "- What data structures Python has?\n",
    "- Mutability\n",
    "- Iterators\n",
    "- Generators\n",
    "- Decorators\n",
    "- Methods, class methods, static methods\n",
    "- Properties\n",
    "\n",
    "## Bonus points\n",
    "- _Descriptors_\n",
    "- _How Python dict works_"
   ]
  },
  {
   "cell_type": "markdown",
   "metadata": {},
   "source": [
    "# Linux\n",
    "\n",
    "- shell\n",
    "  - cd, ls, cat, grep, piping one to another\n",
    "- env variables    \n",
    "- standard file system structure\n",
    "  - logs\n",
    "  - config files"
   ]
  },
  {
   "cell_type": "markdown",
   "metadata": {},
   "source": [
    "# Networks\n",
    "\n",
    "- 192.168.0.0/24\n",
    "- OSI model\n",
    "- TCP vs UDP\n",
    "- DNS"
   ]
  },
  {
   "cell_type": "markdown",
   "metadata": {},
   "source": [
    "# Git\n",
    "\n",
    "- what is index?\n",
    "- what is stash?\n",
    "- remotes?\n",
    "- change last / not last commit\n",
    "- conflicts resolution\n",
    "- how to replant a branch?\n",
    "- Gerrit experience?"
   ]
  }
 ],
 "metadata": {
  "kernelspec": {
   "display_name": "Python 3",
   "language": "python",
   "name": "python3"
  },
  "language_info": {
   "codemirror_mode": {
    "name": "ipython",
    "version": 3
   },
   "file_extension": ".py",
   "mimetype": "text/x-python",
   "name": "python",
   "nbconvert_exporter": "python",
   "pygments_lexer": "ipython3",
   "version": "3.6.3"
  }
 },
 "nbformat": 4,
 "nbformat_minor": 2
}
