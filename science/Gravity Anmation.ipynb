{
 "cells": [
  {
   "cell_type": "markdown",
   "metadata": {},
   "source": [
    "#Animation of Elastic collisions with Gravity"
   ]
  },
  {
   "cell_type": "markdown",
   "metadata": {
    "collapsed": false
   },
   "source": [
    "author: Jake Vanderplas\n",
    "\n",
    "email: vanderplas@astro.washington.edu\n",
    "\n",
    "website: http://jakevdp.github.com\n",
    "\n",
    "license: BSD\n",
    "\n",
    "Please feel free to use and modify this, but keep the above information.\n",
    "\n",
    "Thanks!"
   ]
  },
  {
   "cell_type": "code",
   "execution_count": 9,
   "metadata": {
    "collapsed": false
   },
   "outputs": [],
   "source": [
    "%matplotlib inline\n",
    "import numpy as np\n",
    "from scipy.spatial.distance import pdist, squareform\n",
    "\n",
    "import matplotlib.pyplot as plt\n",
    "#import scipy.integrate as integrate\n",
    "import matplotlib.animation as animation"
   ]
  },
  {
   "cell_type": "code",
   "execution_count": 10,
   "metadata": {
    "collapsed": true
   },
   "outputs": [],
   "source": [
    "class ParticleBox:\n",
    "    \"\"\"Orbits class\n",
    "\n",
    "    init_state is an [N x 4] array, where N is the number of particles:\n",
    "       [[x1, y1, vx1, vy1],\n",
    "        [x2, y2, vx2, vy2],\n",
    "        ...               ]\n",
    "\n",
    "    bounds is the size of the box: [xmin, xmax, ymin, ymax]\n",
    "    \"\"\"\n",
    "    def __init__(self,\n",
    "                 init_state=[[1, 0, 0, -1],\n",
    "                             [-0.5, 0.5, 0.5, 0.5],\n",
    "                             [-0.5, -0.5, -0.5, 0.5]],\n",
    "                 bounds=[-2, 2, -2, 2],\n",
    "                 size=0.04,\n",
    "                 M=0.05,\n",
    "                 G=9.8):\n",
    "        self.init_state = np.asarray(init_state, dtype=float)\n",
    "        self.M = M * np.ones(self.init_state.shape[0])\n",
    "        self.size = size\n",
    "        self.state = self.init_state.copy()\n",
    "        self.time_elapsed = 0\n",
    "        self.bounds = bounds\n",
    "        self.G = G\n",
    "\n",
    "    def step(self, dt):\n",
    "        \"\"\"step once by dt seconds\"\"\"\n",
    "        self.time_elapsed += dt\n",
    "\n",
    "        # update positions\n",
    "        self.state[:, :2] += dt * self.state[:, 2:]\n",
    "\n",
    "        # find pairs of particles undergoing a collision\n",
    "        D = squareform(pdist(self.state[:, :2]))\n",
    "        ind1, ind2 = np.where(D < 2 * self.size)\n",
    "        unique = (ind1 < ind2)\n",
    "        ind1 = ind1[unique]\n",
    "        ind2 = ind2[unique]\n",
    "\n",
    "        # update velocities of colliding pairs\n",
    "        for i1, i2 in zip(ind1, ind2):\n",
    "            # mass\n",
    "            m1 = self.M[i1]\n",
    "            m2 = self.M[i2]\n",
    "\n",
    "            # location vector\n",
    "            r1 = self.state[i1, :2]\n",
    "            r2 = self.state[i2, :2]\n",
    "\n",
    "            # velocity vector\n",
    "            v1 = self.state[i1, 2:]\n",
    "            v2 = self.state[i2, 2:]\n",
    "\n",
    "            # relative location & velocity vectors\n",
    "            r_rel = r1 - r2\n",
    "            v_rel = v1 - v2\n",
    "\n",
    "            # momentum vector of the center of mass\n",
    "            v_cm = (m1 * v1 + m2 * v2) / (m1 + m2)\n",
    "\n",
    "            # collisions of spheres reflect v_rel over r_rel\n",
    "            rr_rel = np.dot(r_rel, r_rel)\n",
    "            vr_rel = np.dot(v_rel, r_rel)\n",
    "            v_rel = 2 * r_rel * vr_rel / rr_rel - v_rel\n",
    "\n",
    "            # assign new velocities\n",
    "            self.state[i1, 2:] = v_cm + v_rel * m2 / (m1 + m2)\n",
    "            self.state[i2, 2:] = v_cm - v_rel * m1 / (m1 + m2)\n",
    "\n",
    "        # check for crossing boundary\n",
    "        crossed_x1 = (self.state[:, 0] < self.bounds[0] + self.size)\n",
    "        crossed_x2 = (self.state[:, 0] > self.bounds[1] - self.size)\n",
    "        crossed_y1 = (self.state[:, 1] < self.bounds[2] + self.size)\n",
    "        crossed_y2 = (self.state[:, 1] > self.bounds[3] - self.size)\n",
    "\n",
    "        self.state[crossed_x1, 0] = self.bounds[0] + self.size\n",
    "        self.state[crossed_x2, 0] = self.bounds[1] - self.size\n",
    "\n",
    "        self.state[crossed_y1, 1] = self.bounds[2] + self.size\n",
    "        self.state[crossed_y2, 1] = self.bounds[3] - self.size\n",
    "\n",
    "        self.state[crossed_x1 | crossed_x2, 2] *= -1\n",
    "        self.state[crossed_y1 | crossed_y2, 3] *= -1\n",
    "\n",
    "        # add gravity\n",
    "        self.state[:, 3] -= self.M * self.G * dt"
   ]
  },
  {
   "cell_type": "code",
   "execution_count": 11,
   "metadata": {
    "collapsed": true
   },
   "outputs": [],
   "source": [
    "# set up initial state\n",
    "np.random.seed(0)\n",
    "init_state = -0.5 + np.random.random((50, 4))\n",
    "init_state[:, :2] *= 3.9\n",
    "\n",
    "box = ParticleBox(init_state, size=0.04)\n",
    "dt = 1. / 30  # 30fps"
   ]
  },
  {
   "cell_type": "code",
   "execution_count": 12,
   "metadata": {
    "collapsed": false
   },
   "outputs": [
    {
     "data": {
      "image/png": "[encoded data removed]",
      "text/plain": [
       "<matplotlib.figure.Figure at 0x7f227463c050>"
      ]
     },
     "metadata": {},
     "output_type": "display_data"
    }
   ],
   "source": [
    "# set up figure and animation\n",
    "fig = plt.figure()\n",
    "fig.subplots_adjust(left=0, right=1, bottom=0, top=1)\n",
    "ax = fig.add_subplot(111, aspect='equal', autoscale_on=False,\n",
    "                     xlim=(-3.2, 3.2), ylim=(-2.4, 2.4))\n",
    "\n",
    "# particles holds the locations of the particles\n",
    "particles, = ax.plot([], [], 'bo', ms=6)\n",
    "\n",
    "# rect is the box edge\n",
    "rect = plt.Rectangle(box.bounds[::2],\n",
    "                     box.bounds[1] - box.bounds[0],\n",
    "                     box.bounds[3] - box.bounds[2],\n",
    "                     ec='none', lw=2, fc='none')\n",
    "tmp = ax.add_patch(rect)"
   ]
  },
  {
   "cell_type": "code",
   "execution_count": 13,
   "metadata": {
    "collapsed": true
   },
   "outputs": [],
   "source": [
    "def init():\n",
    "    \"\"\"initialize animation\"\"\"\n",
    "    global box, rect\n",
    "    particles.set_data([], [])\n",
    "    rect.set_edgecolor('none')\n",
    "    return particles, rect"
   ]
  },
  {
   "cell_type": "code",
   "execution_count": 14,
   "metadata": {
    "collapsed": true
   },
   "outputs": [],
   "source": [
    "def animate(i):\n",
    "    \"\"\"perform animation step\"\"\"\n",
    "    global box, rect, dt, ax, fig\n",
    "    box.step(dt)\n",
    "\n",
    "    ms = int(fig.dpi * 2 * box.size * fig.get_figwidth()\n",
    "             / np.diff(ax.get_xbound())[0])\n",
    "\n",
    "    # update pieces of the animation\n",
    "    rect.set_edgecolor('k')\n",
    "    particles.set_data(box.state[:, 0], box.state[:, 1])\n",
    "    particles.set_markersize(ms)\n",
    "    return particles, rect"
   ]
  },
  {
   "cell_type": "markdown",
   "metadata": {},
   "source": [
    "after http://nbviewer.ipython.org/url/jakevdp.github.io/downloads/notebooks/AnimationEmbedding.ipynb"
   ]
  },
  {
   "cell_type": "code",
   "execution_count": 15,
   "metadata": {
    "collapsed": true
   },
   "outputs": [],
   "source": [
    "from tempfile import NamedTemporaryFile\n",
    "\n",
    "VIDEO_TAG = \"\"\"<video controls>\n",
    " <source src=\"data:video/x-m4v;base64,{0}\" type=\"video/mp4\">\n",
    " Your browser does not support the video tag.\n",
    "</video>\"\"\"\n",
    "\n",
    "def anim_to_html(anim):\n",
    "    if not hasattr(anim, '_encoded_video'):\n",
    "        with NamedTemporaryFile(suffix='.mp4') as f:\n",
    "            anim.save(f.name, fps=20, extra_args=['-vcodec', 'libx264'])\n",
    "            video = open(f.name, \"rb\").read()\n",
    "        anim._encoded_video = video.encode(\"base64\")\n",
    "    \n",
    "    return VIDEO_TAG.format(anim._encoded_video)"
   ]
  },
  {
   "cell_type": "code",
   "execution_count": 16,
   "metadata": {
    "collapsed": true
   },
   "outputs": [],
   "source": [
    "from IPython.display import HTML\n",
    "\n",
    "def display_animation(anim):\n",
    "    plt.close(anim._fig)\n",
    "    return HTML(anim_to_html(anim))"
   ]
  },
  {
   "cell_type": "code",
   "execution_count": 8,
   "metadata": {
    "collapsed": true
   },
   "outputs": [],
   "source": [
    "#animation.Animation._repr_html_ = anim_to_html\n",
    "ani = animation.FuncAnimation(fig, animate, frames=600,\n",
    "                              interval=10, blit=True, init_func=init)\n",
    "display_animation(ani)"
   ]
  },
  {
   "cell_type": "code",
   "execution_count": 10,
   "metadata": {
    "collapsed": true
   },
   "outputs": [],
   "source": [
    "# save the animation as an mp4.  This requires ffmpeg or mencoder to be\n",
    "# installed.  The extra_args ensure that the x264 codec is used, so that\n",
    "# the video can be embedded in html5.  You may need to adjust this for\n",
    "# your system: for more information, see\n",
    "# http://matplotlib.sourceforge.net/api/animation_api.html\n",
    "#ani.save('particle_box.mp4', fps=30, codec='libx264')\n",
    "\n",
    "#plt.show()"
   ]
  },
  {
   "cell_type": "code",
   "execution_count": null,
   "metadata": {
    "collapsed": true
   },
   "outputs": [],
   "source": []
  }
 ],
 "metadata": {
  "kernelspec": {
   "display_name": "Python 2",
   "language": "python",
   "name": "python2"
  },
  "language_info": {
   "codemirror_mode": {
    "name": "ipython",
    "version": 2
   },
   "file_extension": ".py",
   "mimetype": "text/x-python",
   "name": "python",
   "nbconvert_exporter": "python",
   "pygments_lexer": "ipython2",
   "version": "2.7.6"
  }
 },
 "nbformat": 4,
 "nbformat_minor": 0
}
